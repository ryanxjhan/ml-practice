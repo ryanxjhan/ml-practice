{
 "cells": [
  {
   "cell_type": "markdown",
   "metadata": {},
   "source": [
    "## HR"
   ]
  },
  {
   "cell_type": "markdown",
   "metadata": {},
   "source": [
    "### Import Tools"
   ]
  },
  {
   "cell_type": "code",
   "execution_count": 1,
   "metadata": {
    "_cell_guid": "86989804-26c9-46db-a80f-9e36e681fe6f",
    "_uuid": "0cb5cb0e09787643f40047a8f34ac053bb109406"
   },
   "outputs": [],
   "source": [
    "import numpy as np \n",
    "import pandas as pd \n",
    "from patsy import dmatrices \n",
    "from sklearn.linear_model import LogisticRegression \n",
    "from sklearn.model_selection import train_test_split, cross_val_score \n",
    "from sklearn import metrics\n",
    "import matplotlib.pyplot as plt "
   ]
  },
  {
   "cell_type": "markdown",
   "metadata": {
    "_cell_guid": "684bd18c-a2f6-45f4-97e9-75837c2e2673",
    "_uuid": "0b29dc4be31f921263b367a85f7fd6d9d809e510"
   },
   "source": [
    "### Load Data"
   ]
  },
  {
   "cell_type": "code",
   "execution_count": 12,
   "metadata": {
    "_cell_guid": "f49f9d6a-3ad4-4496-b179-742f80e22ce9",
    "_uuid": "23e98986533c3baf368a2cfc2f23c8098d67f26e"
   },
   "outputs": [
    {
     "data": {
      "text/html": [
       "<div>\n",
       "<style scoped>\n",
       "    .dataframe tbody tr th:only-of-type {\n",
       "        vertical-align: middle;\n",
       "    }\n",
       "\n",
       "    .dataframe tbody tr th {\n",
       "        vertical-align: top;\n",
       "    }\n",
       "\n",
       "    .dataframe thead th {\n",
       "        text-align: right;\n",
       "    }\n",
       "</style>\n",
       "<table border=\"1\" class=\"dataframe\">\n",
       "  <thead>\n",
       "    <tr style=\"text-align: right;\">\n",
       "      <th></th>\n",
       "      <th>satisfaction_level</th>\n",
       "      <th>last_evaluation</th>\n",
       "      <th>number_project</th>\n",
       "      <th>average_montly_hours</th>\n",
       "      <th>time_spend_company</th>\n",
       "      <th>Work_accident</th>\n",
       "      <th>left</th>\n",
       "      <th>promotion_last_5years</th>\n",
       "      <th>sales</th>\n",
       "      <th>salary</th>\n",
       "    </tr>\n",
       "  </thead>\n",
       "  <tbody>\n",
       "    <tr>\n",
       "      <th>0</th>\n",
       "      <td>0.38</td>\n",
       "      <td>0.53</td>\n",
       "      <td>2</td>\n",
       "      <td>157</td>\n",
       "      <td>3</td>\n",
       "      <td>0</td>\n",
       "      <td>1</td>\n",
       "      <td>0</td>\n",
       "      <td>sales</td>\n",
       "      <td>low</td>\n",
       "    </tr>\n",
       "    <tr>\n",
       "      <th>1</th>\n",
       "      <td>0.80</td>\n",
       "      <td>0.86</td>\n",
       "      <td>5</td>\n",
       "      <td>262</td>\n",
       "      <td>6</td>\n",
       "      <td>0</td>\n",
       "      <td>1</td>\n",
       "      <td>0</td>\n",
       "      <td>sales</td>\n",
       "      <td>medium</td>\n",
       "    </tr>\n",
       "    <tr>\n",
       "      <th>2</th>\n",
       "      <td>0.11</td>\n",
       "      <td>0.88</td>\n",
       "      <td>7</td>\n",
       "      <td>272</td>\n",
       "      <td>4</td>\n",
       "      <td>0</td>\n",
       "      <td>1</td>\n",
       "      <td>0</td>\n",
       "      <td>sales</td>\n",
       "      <td>medium</td>\n",
       "    </tr>\n",
       "    <tr>\n",
       "      <th>3</th>\n",
       "      <td>0.72</td>\n",
       "      <td>0.87</td>\n",
       "      <td>5</td>\n",
       "      <td>223</td>\n",
       "      <td>5</td>\n",
       "      <td>0</td>\n",
       "      <td>1</td>\n",
       "      <td>0</td>\n",
       "      <td>sales</td>\n",
       "      <td>low</td>\n",
       "    </tr>\n",
       "    <tr>\n",
       "      <th>4</th>\n",
       "      <td>0.37</td>\n",
       "      <td>0.52</td>\n",
       "      <td>2</td>\n",
       "      <td>159</td>\n",
       "      <td>3</td>\n",
       "      <td>0</td>\n",
       "      <td>1</td>\n",
       "      <td>0</td>\n",
       "      <td>sales</td>\n",
       "      <td>low</td>\n",
       "    </tr>\n",
       "  </tbody>\n",
       "</table>\n",
       "</div>"
      ],
      "text/plain": [
       "   satisfaction_level  last_evaluation  number_project  average_montly_hours  \\\n",
       "0                0.38             0.53               2                   157   \n",
       "1                0.80             0.86               5                   262   \n",
       "2                0.11             0.88               7                   272   \n",
       "3                0.72             0.87               5                   223   \n",
       "4                0.37             0.52               2                   159   \n",
       "\n",
       "   time_spend_company  Work_accident  left  promotion_last_5years  sales  \\\n",
       "0                   3              0     1                      0  sales   \n",
       "1                   6              0     1                      0  sales   \n",
       "2                   4              0     1                      0  sales   \n",
       "3                   5              0     1                      0  sales   \n",
       "4                   3              0     1                      0  sales   \n",
       "\n",
       "   salary  \n",
       "0     low  \n",
       "1  medium  \n",
       "2  medium  \n",
       "3     low  \n",
       "4     low  "
      ]
     },
     "execution_count": 12,
     "metadata": {},
     "output_type": "execute_result"
    }
   ],
   "source": [
    "data = pd.read_csv(\"../Data/HR_Left/HR_comma_sep.csv\")\n",
    "data.head()"
   ]
  },
  {
   "cell_type": "markdown",
   "metadata": {},
   "source": [
    "### Check Data Types"
   ]
  },
  {
   "cell_type": "code",
   "execution_count": 13,
   "metadata": {
    "_cell_guid": "ddf128b4-5f08-4a09-b8fb-6cfaa00efde3",
    "_uuid": "7957141ed636f30c3134129e5bb5ca048de4d560"
   },
   "outputs": [
    {
     "data": {
      "text/plain": [
       "satisfaction_level       float64\n",
       "last_evaluation          float64\n",
       "number_project             int64\n",
       "average_montly_hours       int64\n",
       "time_spend_company         int64\n",
       "Work_accident              int64\n",
       "left                       int64\n",
       "promotion_last_5years      int64\n",
       "sales                     object\n",
       "salary                    object\n",
       "dtype: object"
      ]
     },
     "execution_count": 13,
     "metadata": {},
     "output_type": "execute_result"
    }
   ],
   "source": [
    "data.dtypes"
   ]
  },
  {
   "cell_type": "markdown",
   "metadata": {
    "_cell_guid": "a71622f2-bb79-4570-b539-d0a47a3ab4b5",
    "_uuid": "a5b523f984375c2c20e0b7a2ba73079d50dac631"
   },
   "source": [
    "### Relationships"
   ]
  },
  {
   "cell_type": "markdown",
   "metadata": {},
   "source": [
    "#### Salary"
   ]
  },
  {
   "cell_type": "code",
   "execution_count": 14,
   "metadata": {
    "_cell_guid": "4bb0aee7-bdde-4a62-90b2-379b767060de",
    "_uuid": "4e7949ac76e340e0f2f0c4f99c1ee77c5ed20607",
    "scrolled": false
   },
   "outputs": [
    {
     "data": {
      "image/png": "[encoded data removed]",
      "text/plain": [
       "<Figure size 432x288 with 1 Axes>"
      ]
     },
     "metadata": {},
     "output_type": "display_data"
    }
   ],
   "source": [
    "pd.crosstab(data.salary, data.left).plot(kind='bar')\n",
    "plt.show()"
   ]
  },
  {
   "cell_type": "markdown",
   "metadata": {
    "_cell_guid": "f2ce3bcc-5347-4464-aac4-8b2e87e5b221",
    "_uuid": "61c990d2f9913f2b837775d1ee4d2fdcfc9995ed"
   },
   "source": [
    "#### Salary: Ratio"
   ]
  },
  {
   "cell_type": "code",
   "execution_count": 16,
   "metadata": {
    "_cell_guid": "91405333-e851-4aa2-a710-defcc5f37dcb",
    "_uuid": "27abeb49dba5f7a3d2409463ad1119d1a818c152"
   },
   "outputs": [
    {
     "name": "stdout",
     "output_type": "stream",
     "text": [
      "left       0     1\n",
      "salary            \n",
      "high    1155    82\n",
      "low     5144  2172\n",
      "medium  5129  1317\n",
      "salary\n",
      "high      1237\n",
      "low       7316\n",
      "medium    6446\n",
      "dtype: int64\n"
     ]
    },
    {
     "data": {
      "image/png": "[encoded data removed]",
      "text/plain": [
       "<Figure size 432x288 with 1 Axes>"
      ]
     },
     "metadata": {},
     "output_type": "display_data"
    }
   ],
   "source": [
    "q = pd.crosstab(data.salary, data.left)\n",
    "print(q)\n",
    "print(q.sum(1))\n",
    "q.div(q.sum(1), axis = 0).plot(kind='bar', stacked = True)\n",
    "plt.show()"
   ]
  },
  {
   "cell_type": "markdown",
   "metadata": {
    "_cell_guid": "41e92440-092f-429e-9a62-690c5d3ed493",
    "_uuid": "864780075b04f515d8bda837316ee335ffacd61f"
   },
   "source": [
    "#### Satisfaction Level: Histgram"
   ]
  },
  {
   "cell_type": "code",
   "execution_count": 19,
   "metadata": {
    "_cell_guid": "974a0e38-8dcf-4602-9584-784738abba7f",
    "_uuid": "bd786f958c3f72e6c64ae3d7a132c6ee6f639672",
    "scrolled": true
   },
   "outputs": [
    {
     "data": {
      "image/png": "[encoded data removed]",
      "text/plain": [
       "<Figure size 432x288 with 1 Axes>"
      ]
     },
     "metadata": {},
     "output_type": "display_data"
    }
   ],
   "source": [
    "data[data.left==0].satisfaction_level.hist()\n",
    "plt.title('Stayed')\n",
    "plt.show()"
   ]
  },
  {
   "cell_type": "code",
   "execution_count": 18,
   "metadata": {
    "_cell_guid": "86b99a99-1ff6-4827-bae1-de997fe2f403",
    "_uuid": "98f83ae34d3c22aa8140e18e86b6ddeb41582cf2"
   },
   "outputs": [
    {
     "data": {
      "image/png": "[encoded data removed]",
      "text/plain": [
       "<Figure size 432x288 with 1 Axes>"
      ]
     },
     "metadata": {},
     "output_type": "display_data"
    }
   ],
   "source": [
    "data[data.left==1].satisfaction_level.hist()\n",
    "plt.title('Left')\n",
    "plt.show()"
   ]
  },
  {
   "cell_type": "markdown",
   "metadata": {
    "_cell_guid": "1c7209a5-c27b-4836-971f-2f6f46241ee8",
    "_uuid": "ec02939ec48d605750b0dbb8cde0276ba271b641"
   },
   "source": [
    "### One-hot Encoding"
   ]
  },
  {
   "cell_type": "code",
   "execution_count": 20,
   "metadata": {
    "_cell_guid": "b6dca5fc-6add-47a3-8c49-4b9043c86657",
    "_uuid": "b771b5839d4b4837cb5b64e02017fe83db4917e3"
   },
   "outputs": [],
   "source": [
    "model = LogisticRegression()\n",
    "y, X = dmatrices('left~satisfaction_level+last_evaluation+number_project+average_montly_hours+time_spend_company+Work_accident+promotion_last_5years+C(sales)+C(salary)', data, return_type='dataframe')\n",
    "X = X.rename(columns = {\n",
    "    'C(sales)[T.RandD]': 'Department: Random',\n",
    "    'C(sales)[T.accounting]': 'Department: Accounting',\n",
    "    'C(sales)[T.hr]': 'Department: HR',\n",
    "    'C(sales)[T.management]': 'Department: Management',\n",
    "    'C(sales)[T.marketing]': 'Department: Marketing',\n",
    "    'C(sales)[T.product_mng]': 'Department: Product_Management',\n",
    "    'C(sales)[T.sales]': 'Department: Sales',\n",
    "    'C(sales)[T.support]': 'Department: Support',\n",
    "    'C(sales)[T.technical]': 'Department: Technical',\n",
    "    'C(salary)[T.low]': 'Salary: Low',\n",
    "    'C(salary)[T.medium]': 'Salary: Medium'}) \n",
    "y = np.ravel(y) "
   ]
  },
  {
   "cell_type": "markdown",
   "metadata": {
    "_cell_guid": "9c53c218-58cc-4787-9516-9cffaa36cfb4",
    "_uuid": "bd9a66647987324e34aaf156e27bc8c6605b599e"
   },
   "source": [
    "### Influence Coeficient"
   ]
  },
  {
   "cell_type": "code",
   "execution_count": 22,
   "metadata": {
    "_cell_guid": "93454c1e-880a-432b-9c93-189bc2eaa020",
    "_uuid": "8c307c7e2e7fbeb51bfd6c3d15629df049456a2e"
   },
   "outputs": [
    {
     "data": {
      "text/html": [
       "<div>\n",
       "<style scoped>\n",
       "    .dataframe tbody tr th:only-of-type {\n",
       "        vertical-align: middle;\n",
       "    }\n",
       "\n",
       "    .dataframe tbody tr th {\n",
       "        vertical-align: top;\n",
       "    }\n",
       "\n",
       "    .dataframe thead th {\n",
       "        text-align: right;\n",
       "    }\n",
       "</style>\n",
       "<table border=\"1\" class=\"dataframe\">\n",
       "  <thead>\n",
       "    <tr style=\"text-align: right;\">\n",
       "      <th></th>\n",
       "      <th>0</th>\n",
       "      <th>1</th>\n",
       "    </tr>\n",
       "  </thead>\n",
       "  <tbody>\n",
       "    <tr>\n",
       "      <th>0</th>\n",
       "      <td>Intercept</td>\n",
       "      <td>[-0.68682172395017]</td>\n",
       "    </tr>\n",
       "    <tr>\n",
       "      <th>1</th>\n",
       "      <td>Department: Random</td>\n",
       "      <td>[-0.489762967624363]</td>\n",
       "    </tr>\n",
       "    <tr>\n",
       "      <th>2</th>\n",
       "      <td>Department: Accounting</td>\n",
       "      <td>[0.09539255759733122]</td>\n",
       "    </tr>\n",
       "    <tr>\n",
       "      <th>3</th>\n",
       "      <td>Department: HR</td>\n",
       "      <td>[0.3286714969125059]</td>\n",
       "    </tr>\n",
       "    <tr>\n",
       "      <th>4</th>\n",
       "      <td>Department: Management</td>\n",
       "      <td>[-0.40109702117612267]</td>\n",
       "    </tr>\n",
       "    <tr>\n",
       "      <th>5</th>\n",
       "      <td>Department: Marketing</td>\n",
       "      <td>[0.08974406474405866]</td>\n",
       "    </tr>\n",
       "    <tr>\n",
       "      <th>6</th>\n",
       "      <td>Department: Product_Management</td>\n",
       "      <td>[-0.04095296254076212]</td>\n",
       "    </tr>\n",
       "    <tr>\n",
       "      <th>7</th>\n",
       "      <td>Department: Sales</td>\n",
       "      <td>[0.07497090979898711]</td>\n",
       "    </tr>\n",
       "    <tr>\n",
       "      <th>8</th>\n",
       "      <td>Department: Support</td>\n",
       "      <td>[0.1683601892896718]</td>\n",
       "    </tr>\n",
       "    <tr>\n",
       "      <th>9</th>\n",
       "      <td>Department: Technical</td>\n",
       "      <td>[0.17302139005293052]</td>\n",
       "    </tr>\n",
       "    <tr>\n",
       "      <th>10</th>\n",
       "      <td>Salary: Low</td>\n",
       "      <td>[1.7821033933195642]</td>\n",
       "    </tr>\n",
       "    <tr>\n",
       "      <th>11</th>\n",
       "      <td>Salary: Medium</td>\n",
       "      <td>[1.2562565303677047]</td>\n",
       "    </tr>\n",
       "    <tr>\n",
       "      <th>12</th>\n",
       "      <td>satisfaction_level</td>\n",
       "      <td>[-4.128237323420271]</td>\n",
       "    </tr>\n",
       "    <tr>\n",
       "      <th>13</th>\n",
       "      <td>last_evaluation</td>\n",
       "      <td>[0.7331420054185767]</td>\n",
       "    </tr>\n",
       "    <tr>\n",
       "      <th>14</th>\n",
       "      <td>number_project</td>\n",
       "      <td>[-0.31413789182132934]</td>\n",
       "    </tr>\n",
       "    <tr>\n",
       "      <th>15</th>\n",
       "      <td>average_montly_hours</td>\n",
       "      <td>[0.004244711974384053]</td>\n",
       "    </tr>\n",
       "    <tr>\n",
       "      <th>16</th>\n",
       "      <td>time_spend_company</td>\n",
       "      <td>[0.2606884044476173]</td>\n",
       "    </tr>\n",
       "    <tr>\n",
       "      <th>17</th>\n",
       "      <td>Work_accident</td>\n",
       "      <td>[-1.5230812201277644]</td>\n",
       "    </tr>\n",
       "    <tr>\n",
       "      <th>18</th>\n",
       "      <td>promotion_last_5years</td>\n",
       "      <td>[-1.0878429073002955]</td>\n",
       "    </tr>\n",
       "  </tbody>\n",
       "</table>\n",
       "</div>"
      ],
      "text/plain": [
       "                                 0                       1\n",
       "0                        Intercept     [-0.68682172395017]\n",
       "1               Department: Random    [-0.489762967624363]\n",
       "2           Department: Accounting   [0.09539255759733122]\n",
       "3                   Department: HR    [0.3286714969125059]\n",
       "4           Department: Management  [-0.40109702117612267]\n",
       "5            Department: Marketing   [0.08974406474405866]\n",
       "6   Department: Product_Management  [-0.04095296254076212]\n",
       "7                Department: Sales   [0.07497090979898711]\n",
       "8              Department: Support    [0.1683601892896718]\n",
       "9            Department: Technical   [0.17302139005293052]\n",
       "10                     Salary: Low    [1.7821033933195642]\n",
       "11                  Salary: Medium    [1.2562565303677047]\n",
       "12              satisfaction_level    [-4.128237323420271]\n",
       "13                 last_evaluation    [0.7331420054185767]\n",
       "14                  number_project  [-0.31413789182132934]\n",
       "15            average_montly_hours  [0.004244711974384053]\n",
       "16              time_spend_company    [0.2606884044476173]\n",
       "17                   Work_accident   [-1.5230812201277644]\n",
       "18           promotion_last_5years   [-1.0878429073002955]"
      ]
     },
     "execution_count": 22,
     "metadata": {},
     "output_type": "execute_result"
    }
   ],
   "source": [
    "model.fit(X, y)\n",
    "pd.DataFrame(list(zip(X.columns, np.transpose(model.coef_))))"
   ]
  },
  {
   "cell_type": "markdown",
   "metadata": {
    "_cell_guid": "ee6b7ff1-a85a-42d3-99a3-938867450cf8",
    "_uuid": "ecf8487593c475e77e4e3b95b39b04ffceac8114"
   },
   "source": [
    "### Model Score"
   ]
  },
  {
   "cell_type": "code",
   "execution_count": 23,
   "metadata": {
    "_cell_guid": "3beb638c-a5cb-4d8c-8c33-c40fb1b858a1",
    "_uuid": "a3211d55c9ea49137972fc68abe8941ac09994e1"
   },
   "outputs": [
    {
     "name": "stdout",
     "output_type": "stream",
     "text": [
      "0.793652910194013\n"
     ]
    }
   ],
   "source": [
    "print(model.score(X,y))"
   ]
  },
  {
   "cell_type": "markdown",
   "metadata": {},
   "source": [
    "## Test"
   ]
  },
  {
   "cell_type": "markdown",
   "metadata": {},
   "source": [
    "#### Satisfaction level: 0.5 Eval: 0.7 Projects: 4 Hours/Month: 160 Stayed: 3 years No promotion No accident"
   ]
  },
  {
   "cell_type": "code",
   "execution_count": 24,
   "metadata": {
    "_cell_guid": "3ac65bfd-4cbd-49a8-b3f8-95a426e0a7a2",
    "_uuid": "316e5f804189e63c874a107ee38b014b409457f3"
   },
   "outputs": [
    {
     "data": {
      "text/plain": [
       "array([[0.91615561, 0.08384439]])"
      ]
     },
     "execution_count": 24,
     "metadata": {},
     "output_type": "execute_result"
    }
   ],
   "source": [
    "model.predict_proba([[1,0,0,1,0,0,0,0,0,0,0,0, 0.5, 0.7, 4.0, 160, 3.0, 0, 0]])"
   ]
  },
  {
   "cell_type": "code",
   "execution_count": 25,
   "metadata": {
    "_cell_guid": "e7d5f70d-8420-42fa-af48-f6563297b2b4",
    "_uuid": "07ea225da8c82ea52dc9849c8159ef6b9f2b0368"
   },
   "outputs": [
    {
     "data": {
      "text/plain": [
       "0.20634708980598707"
      ]
     },
     "execution_count": 25,
     "metadata": {},
     "output_type": "execute_result"
    }
   ],
   "source": [
    "pred = model.predict(X)\n",
    "(abs(pred-y)).sum() / len(y)"
   ]
  },
  {
   "cell_type": "markdown",
   "metadata": {
    "_cell_guid": "4ea9bb37-8ddc-46d0-999b-31f87420bae7",
    "_uuid": "bced90a78e5627996cbca642890e1a0361b66591"
   },
   "source": [
    "### Split Data into Train and Test"
   ]
  },
  {
   "cell_type": "code",
   "execution_count": 26,
   "metadata": {
    "_cell_guid": "1460e0cb-a956-4e9b-8b02-bffac44eb59a",
    "_uuid": "0695810436a508bc5b38c2756bbb8a307dc0b41e"
   },
   "outputs": [
    {
     "data": {
      "text/plain": [
       "LogisticRegression(C=1.0, class_weight=None, dual=False, fit_intercept=True,\n",
       "          intercept_scaling=1, max_iter=100, multi_class='ovr', n_jobs=1,\n",
       "          penalty='l2', random_state=None, solver='liblinear', tol=0.0001,\n",
       "          verbose=0, warm_start=False)"
      ]
     },
     "execution_count": 26,
     "metadata": {},
     "output_type": "execute_result"
    }
   ],
   "source": [
    "Xtrain,Xtest,ytrain,ytest=train_test_split(X, y, test_size=0.3, random_state=0)\n",
    "model2 = LogisticRegression()\n",
    "model2.fit(Xtrain, ytrain)"
   ]
  },
  {
   "cell_type": "markdown",
   "metadata": {},
   "source": [
    "### Score on Testing Set"
   ]
  },
  {
   "cell_type": "code",
   "execution_count": 28,
   "metadata": {
    "_cell_guid": "95202ad0-141e-4a6d-a918-0e9201a8f04e",
    "_uuid": "89df8f63f61a1cd7fe12fa1cc10798944904e3da"
   },
   "outputs": [
    {
     "data": {
      "text/plain": [
       "0.7917777777777778"
      ]
     },
     "execution_count": 28,
     "metadata": {},
     "output_type": "execute_result"
    }
   ],
   "source": [
    "model2 = LogisticRegression(C=10000)\n",
    "model2.fit(Xtrain, ytrain)\n",
    "pred = model2.predict(Xtest)\n",
    "metrics.accuracy_score(ytest, pred)"
   ]
  },
  {
   "cell_type": "markdown",
   "metadata": {
    "_cell_guid": "53f81836-6257-48c7-81b5-99ea3bad4100",
    "_uuid": "b55c4fdb1ab5fec5f726d8bb2f1ee0ed6f2a3f4c"
   },
   "source": [
    "### Confusion Matrix"
   ]
  },
  {
   "cell_type": "code",
   "execution_count": 29,
   "metadata": {
    "_cell_guid": "d8da2382-9572-40e8-b9ab-d216d257f67e",
    "_uuid": "7b297e4a4c02a234036b775c8aea49a42f3211b8"
   },
   "outputs": [
    {
     "data": {
      "text/plain": [
       "array([[3199,  263],\n",
       "       [ 674,  364]])"
      ]
     },
     "execution_count": 29,
     "metadata": {},
     "output_type": "execute_result"
    }
   ],
   "source": [
    "metrics.confusion_matrix(ytest, pred)\n",
    "#        prediction\n",
    "#\n",
    "#\n",
    "#actual\n",
    "#\n",
    "#\n",
    "#"
   ]
  },
  {
   "cell_type": "markdown",
   "metadata": {
    "_cell_guid": "5d654539-2137-42d7-8d7f-41764618a24e",
    "_uuid": "f2d6899107e73fc08ad64cc1f391d31e72aec078"
   },
   "source": [
    "### Classification Report"
   ]
  },
  {
   "cell_type": "code",
   "execution_count": 31,
   "metadata": {
    "_cell_guid": "d529d26c-fc11-4be8-909b-aa1edda9f987",
    "_uuid": "2f1781cf298e73ca9af880b0c8a37456c6225693",
    "scrolled": false
   },
   "outputs": [
    {
     "name": "stdout",
     "output_type": "stream",
     "text": [
      "             precision    recall  f1-score   support\n",
      "\n",
      "        0.0       0.83      0.92      0.87      3462\n",
      "        1.0       0.58      0.35      0.44      1038\n",
      "\n",
      "avg / total       0.77      0.79      0.77      4500\n",
      "\n"
     ]
    }
   ],
   "source": [
    "print(metrics.classification_report(ytest, pred))"
   ]
  },
  {
   "cell_type": "markdown",
   "metadata": {
    "_cell_guid": "7be8653b-a979-4627-ad4c-bd4e080d9872",
    "_uuid": "56349c5d5a1f64a1ffa57910765649c2bf8bdf39"
   },
   "source": [
    "### 10-Fold Cross Validation"
   ]
  },
  {
   "cell_type": "code",
   "execution_count": 32,
   "metadata": {
    "_cell_guid": "b6449f15-d544-4562-ac3c-da63821edb28",
    "_uuid": "3945ee226e6527a24f6cb7d4be9a5a482c9ba54d"
   },
   "outputs": [
    {
     "name": "stdout",
     "output_type": "stream",
     "text": [
      "[0.80746169 0.792      0.79533333 0.78733333 0.804      0.804\n",
      " 0.794      0.79       0.74449633 0.73582388]\n"
     ]
    }
   ],
   "source": [
    "print(cross_val_score(LogisticRegression(), X, y, scoring='accuracy', cv=10))"
   ]
  },
  {
   "cell_type": "code",
   "execution_count": null,
   "metadata": {},
   "outputs": [],
   "source": []
  }
 ],
 "metadata": {
  "kernelspec": {
   "display_name": "Python 3",
   "language": "python",
   "name": "python3"
  },
  "language_info": {
   "codemirror_mode": {
    "name": "ipython",
    "version": 3
   },
   "file_extension": ".py",
   "mimetype": "text/x-python",
   "name": "python",
   "nbconvert_exporter": "python",
   "pygments_lexer": "ipython3",
   "version": "3.6.5"
  }
 },
 "nbformat": 4,
 "nbformat_minor": 1
}
