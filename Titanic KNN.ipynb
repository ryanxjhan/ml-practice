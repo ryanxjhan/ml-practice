{
 "cells": [
  {
   "cell_type": "markdown",
   "metadata": {
    "_uuid": "2b69b5b998a3b87431d524d989c4d64fee52243a"
   },
   "source": [
    "# Titanic\n",
    "[View Poject on Kaggle](https://www.kaggle.com/c/titanic)\n",
    "\n",
    "[View Details on Medium](https://medium.com/@ryan.han)"
   ]
  },
  {
   "cell_type": "markdown",
   "metadata": {
    "_uuid": "3c42eb94a644088cae47aa1d1825a393e58d6bf1"
   },
   "source": [
    "### Import Tools"
   ]
  },
  {
   "cell_type": "code",
   "execution_count": 1,
   "metadata": {
    "_cell_guid": "60a9f86c-3966-b593-db50-3117a967407a",
    "_uuid": "ee95265c5c7d5644c6c3bbc58ee7d70b6ff14719",
    "collapsed": true
   },
   "outputs": [],
   "source": [
    "import numpy as np \n",
    "import pandas as pd \n",
    "import matplotlib.pyplot as plt "
   ]
  },
  {
   "cell_type": "markdown",
   "metadata": {
    "_uuid": "cbade23934e75e5ceb3e1a2eccf9099f3719477b"
   },
   "source": [
    "### Load Training and Testing Data"
   ]
  },
  {
   "cell_type": "code",
   "execution_count": 2,
   "metadata": {
    "_cell_guid": "6a8f6ab7-616e-cd98-7078-728d76927f61",
    "_uuid": "338eaee0282a2a47328611cc151d37ac22bc74aa",
    "collapsed": true
   },
   "outputs": [],
   "source": [
    "data_dir = './'\n",
    "\n",
    "def load_data(data_dir):\n",
    "    train = pd.read_csv(data_dir + 'train.csv')\n",
    "    test = pd.read_csv(data_dir + 'test.csv')\n",
    "    return train, test\n",
    "\n",
    "train, test = load_data(data_dir)"
   ]
  },
  {
   "cell_type": "markdown",
   "metadata": {},
   "source": [
    "### View Data"
   ]
  },
  {
   "cell_type": "code",
   "execution_count": 3,
   "metadata": {
    "_uuid": "d53df251b317978b8c69edb1ba91e002f669cbe7"
   },
   "outputs": [
    {
     "name": "stdout",
     "output_type": "stream",
     "text": [
      "   PassengerId  Survived  Pclass  \\\n",
      "0            1         0       3   \n",
      "1            2         1       1   \n",
      "2            3         1       3   \n",
      "3            4         1       1   \n",
      "4            5         0       3   \n",
      "\n",
      "                                                Name     Sex   Age  SibSp  \\\n",
      "0                            Braund, Mr. Owen Harris    male  22.0      1   \n",
      "1  Cumings, Mrs. John Bradley (Florence Briggs Th...  female  38.0      1   \n",
      "2                             Heikkinen, Miss. Laina  female  26.0      0   \n",
      "3       Futrelle, Mrs. Jacques Heath (Lily May Peel)  female  35.0      1   \n",
      "4                           Allen, Mr. William Henry    male  35.0      0   \n",
      "\n",
      "   Parch            Ticket     Fare Cabin Embarked  \n",
      "0      0         A/5 21171   7.2500   NaN        S  \n",
      "1      0          PC 17599  71.2833   C85        C  \n",
      "2      0  STON/O2. 3101282   7.9250   NaN        S  \n",
      "3      0            113803  53.1000  C123        S  \n",
      "4      0            373450   8.0500   NaN        S  \n"
     ]
    }
   ],
   "source": [
    "print(train.head())"
   ]
  },
  {
   "cell_type": "code",
   "execution_count": 4,
   "metadata": {},
   "outputs": [
    {
     "name": "stdout",
     "output_type": "stream",
     "text": [
      "(891, 12)\n"
     ]
    }
   ],
   "source": [
    "print(train.shape)"
   ]
  },
  {
   "cell_type": "code",
   "execution_count": 5,
   "metadata": {},
   "outputs": [
    {
     "name": "stdout",
     "output_type": "stream",
     "text": [
      "<class 'pandas.core.frame.DataFrame'>\n",
      "RangeIndex: 891 entries, 0 to 890\n",
      "Data columns (total 12 columns):\n",
      "PassengerId    891 non-null int64\n",
      "Survived       891 non-null int64\n",
      "Pclass         891 non-null int64\n",
      "Name           891 non-null object\n",
      "Sex            891 non-null object\n",
      "Age            714 non-null float64\n",
      "SibSp          891 non-null int64\n",
      "Parch          891 non-null int64\n",
      "Ticket         891 non-null object\n",
      "Fare           891 non-null float64\n",
      "Cabin          204 non-null object\n",
      "Embarked       889 non-null object\n",
      "dtypes: float64(2), int64(5), object(5)\n",
      "memory usage: 83.6+ KB\n",
      "None\n"
     ]
    }
   ],
   "source": [
    "print(train.info())"
   ]
  },
  {
   "cell_type": "code",
   "execution_count": 6,
   "metadata": {},
   "outputs": [
    {
     "name": "stdout",
     "output_type": "stream",
     "text": [
      "       PassengerId    Survived      Pclass         Age       SibSp  \\\n",
      "count   891.000000  891.000000  891.000000  714.000000  891.000000   \n",
      "mean    446.000000    0.383838    2.308642   29.699118    0.523008   \n",
      "std     257.353842    0.486592    0.836071   14.526497    1.102743   \n",
      "min       1.000000    0.000000    1.000000    0.420000    0.000000   \n",
      "25%     223.500000    0.000000    2.000000   20.125000    0.000000   \n",
      "50%     446.000000    0.000000    3.000000   28.000000    0.000000   \n",
      "75%     668.500000    1.000000    3.000000   38.000000    1.000000   \n",
      "max     891.000000    1.000000    3.000000   80.000000    8.000000   \n",
      "\n",
      "            Parch        Fare  \n",
      "count  891.000000  891.000000  \n",
      "mean     0.381594   32.204208  \n",
      "std      0.806057   49.693429  \n",
      "min      0.000000    0.000000  \n",
      "25%      0.000000    7.910400  \n",
      "50%      0.000000   14.454200  \n",
      "75%      0.000000   31.000000  \n",
      "max      6.000000  512.329200  \n"
     ]
    }
   ],
   "source": [
    "print(train.describe())"
   ]
  },
  {
   "cell_type": "markdown",
   "metadata": {
    "_uuid": "44dc4a8e20acb4df2149992295deb35d322f6048"
   },
   "source": [
    "### Discovery\n",
    "* More than half of the passengers did not survive\n",
    "* Null entries in age column\n",
    "* Most passengers belong to the third class\n",
    "* The passengers are relatively young, but there exists both senior citizens and children"
   ]
  },
  {
   "cell_type": "markdown",
   "metadata": {
    "_uuid": "142f3a2a75f57ce4501ee18258b020448bb6ae07"
   },
   "source": [
    "### Examine Data Correlation "
   ]
  },
  {
   "cell_type": "markdown",
   "metadata": {
    "_uuid": "b8974090e299d87e73c256a618dd1da81a4b92dd"
   },
   "source": [
    "#### Sex"
   ]
  },
  {
   "cell_type": "code",
   "execution_count": 7,
   "metadata": {
    "_uuid": "46d8b3cf66a7251b3391b96c364aff1622b4145b"
   },
   "outputs": [
    {
     "name": "stdout",
     "output_type": "stream",
     "text": [
      "0      male\n",
      "1    female\n",
      "2    female\n",
      "3    female\n",
      "4      male\n",
      "5      male\n",
      "6      male\n",
      "7      male\n",
      "8    female\n",
      "9    female\n",
      "Name: Sex, dtype: object\n"
     ]
    },
    {
     "data": {
      "image/png": "[encoded data removed]",
      "text/plain": [
       "<matplotlib.figure.Figure at 0x110f688d0>"
      ]
     },
     "metadata": {},
     "output_type": "display_data"
    }
   ],
   "source": [
    "print (train['Sex'][:10])\n",
    "Survived_m = train.Survived[train.Sex == 'male'].value_counts()\n",
    "Survived_f = train.Survived[train.Sex == 'female'].value_counts()\n",
    "\n",
    "df=pd.DataFrame({'Male':Survived_m, 'Female':Survived_f})\n",
    "df.plot(kind='bar', stacked=True)\n",
    "plt.title('Survived by Sex')\n",
    "plt.xlabel('Sex') \n",
    "plt.ylabel('Count')\n",
    "plt.show()\n"
   ]
  },
  {
   "cell_type": "markdown",
   "metadata": {
    "_uuid": "c52a00de9cc67c92a6c0edab740708e325d435c6"
   },
   "source": [
    "#### Age"
   ]
  },
  {
   "cell_type": "code",
   "execution_count": 8,
   "metadata": {
    "_uuid": "a0d488e24e793b593e243861431f5d6d40815c12"
   },
   "outputs": [
    {
     "name": "stdout",
     "output_type": "stream",
     "text": [
      "0    22.0\n",
      "1    38.0\n",
      "2    26.0\n",
      "3    35.0\n",
      "4    35.0\n",
      "5     NaN\n",
      "6    54.0\n",
      "7     2.0\n",
      "8    27.0\n",
      "9    14.0\n",
      "Name: Age, dtype: float64\n"
     ]
    },
    {
     "data": {
      "image/png": "[encoded data removed]",
      "text/plain": [
       "<matplotlib.figure.Figure at 0x110ea73c8>"
      ]
     },
     "metadata": {},
     "output_type": "display_data"
    },
    {
     "data": {
      "image/png": "[encoded data removed]",
      "text/plain": [
       "<matplotlib.figure.Figure at 0x114547780>"
      ]
     },
     "metadata": {},
     "output_type": "display_data"
    }
   ],
   "source": [
    "print (train['Age'][:10])\n",
    "train['Age'].hist()  \n",
    "plt.ylabel('Count') \n",
    "plt.xlabel('Age') \n",
    "plt.title('Age Distribution')\n",
    "plt.show()  \n",
    "\n",
    "plt.scatter(train['Survived'], train['Age'])\n",
    "plt.ylabel('Age') \n",
    "plt.xlabel('Survived') \n",
    "plt.title('Survived by Age')\n",
    "plt.show()\n"
   ]
  },
  {
   "cell_type": "markdown",
   "metadata": {
    "_uuid": "a11adde125ddda4a6ae53264366b8052654939e8"
   },
   "source": [
    "#### Ticket Price"
   ]
  },
  {
   "cell_type": "code",
   "execution_count": 9,
   "metadata": {
    "_uuid": "5383b828dbc5a11fff7c22b146c5f803eb3e3775"
   },
   "outputs": [
    {
     "name": "stdout",
     "output_type": "stream",
     "text": [
      "0     7.2500\n",
      "1    71.2833\n",
      "2     7.9250\n",
      "3    53.1000\n",
      "4     8.0500\n",
      "5     8.4583\n",
      "6    51.8625\n",
      "7    21.0750\n",
      "8    11.1333\n",
      "9    30.0708\n",
      "Name: Fare, dtype: float64\n"
     ]
    },
    {
     "data": {
      "image/png": "[encoded data removed]",
      "text/plain": [
       "<matplotlib.figure.Figure at 0x11452fb00>"
      ]
     },
     "metadata": {},
     "output_type": "display_data"
    },
    {
     "data": {
      "image/png": "[encoded data removed]",
      "text/plain": [
       "<matplotlib.figure.Figure at 0x1145772e8>"
      ]
     },
     "metadata": {},
     "output_type": "display_data"
    }
   ],
   "source": [
    "print (train['Fare'][0:10])\n",
    "train['Fare'].hist()  \n",
    "plt.ylabel('Count') \n",
    "plt.xlabel('Fare') \n",
    "plt.title('Fare Distribution')\n",
    "plt.show()  \n",
    "\n",
    "plt.scatter(train['Survived'], train['Fare'])\n",
    "plt.ylabel('Fare') \n",
    "plt.xlabel('Survived') \n",
    "plt.title('Survived by Fare')\n",
    "plt.show()\n"
   ]
  },
  {
   "cell_type": "markdown",
   "metadata": {
    "_uuid": "2e37cd145d9c38074457d6ae80fe01ec6d5bba67"
   },
   "source": [
    "#### Passenger Class"
   ]
  },
  {
   "cell_type": "code",
   "execution_count": 10,
   "metadata": {
    "_uuid": "85f084f9dc69912ddc76cc62438bd347bafd1278"
   },
   "outputs": [
    {
     "name": "stdout",
     "output_type": "stream",
     "text": [
      "0    3\n",
      "1    1\n",
      "2    3\n",
      "3    1\n",
      "4    3\n",
      "5    3\n",
      "6    1\n",
      "7    3\n",
      "8    3\n",
      "9    2\n",
      "Name: Pclass, dtype: int64\n"
     ]
    },
    {
     "data": {
      "image/png": "[encoded data removed]",
      "text/plain": [
       "<matplotlib.figure.Figure at 0x11453c390>"
      ]
     },
     "metadata": {},
     "output_type": "display_data"
    },
    {
     "name": "stdout",
     "output_type": "stream",
     "text": [
      "   First Class  Second Class  Third Class\n",
      "0           80            97          372\n",
      "1          136            87          119\n"
     ]
    },
    {
     "data": {
      "image/png": "[encoded data removed]",
      "text/plain": [
       "<matplotlib.figure.Figure at 0x11454eb38>"
      ]
     },
     "metadata": {},
     "output_type": "display_data"
    }
   ],
   "source": [
    "print (train['Pclass'][0:10])\n",
    "train['Pclass'].hist()  \n",
    "plt.title('Passenger Class Distribution')\n",
    "plt.show()  \n",
    "\n",
    "Survived_p1 = train.Survived[train['Pclass'] == 1].value_counts()\n",
    "Survived_p2 = train.Survived[train['Pclass'] == 2].value_counts()\n",
    "Survived_p3 = train.Survived[train['Pclass'] == 3].value_counts()\n",
    "\n",
    "df=pd.DataFrame({'First Class':Survived_p1, 'Second Class':Survived_p2, 'Third Class':Survived_p3})\n",
    "print(df)\n",
    "df.plot(kind='bar', stacked=True)\n",
    "plt.title('Survived by Passenger Class')\n",
    "plt.xlabel('Survived') \n",
    "plt.ylabel('Count')\n",
    "plt.show()\n"
   ]
  },
  {
   "cell_type": "markdown",
   "metadata": {
    "_uuid": "8fa3ff217f4e5cf5f2b9011c9c839831c79240e9"
   },
   "source": [
    "#### Embarked Location"
   ]
  },
  {
   "cell_type": "code",
   "execution_count": 11,
   "metadata": {
    "_uuid": "0f345b13c75b948f6f76d2f0ca21ac9441c437d3"
   },
   "outputs": [
    {
     "name": "stdout",
     "output_type": "stream",
     "text": [
      "0    S\n",
      "1    C\n",
      "2    S\n",
      "3    S\n",
      "4    S\n",
      "5    Q\n",
      "6    S\n",
      "7    S\n",
      "8    S\n",
      "9    C\n",
      "Name: Embarked, dtype: object\n",
      "0    427\n",
      "1    217\n",
      "Name: Survived, dtype: int64\n"
     ]
    },
    {
     "data": {
      "image/png": "[encoded data removed]",
      "text/plain": [
       "<matplotlib.figure.Figure at 0x114956940>"
      ]
     },
     "metadata": {},
     "output_type": "display_data"
    }
   ],
   "source": [
    "print (train['Embarked'][0:10])\n",
    "\n",
    "Survived_S = train.Survived[train['Embarked'] == 'S'].value_counts()\n",
    "Survived_C = train.Survived[train['Embarked'] == 'C'].value_counts()\n",
    "Survived_Q = train.Survived[train['Embarked'] == 'Q'].value_counts()\n",
    "\n",
    "print(Survived_S)\n",
    "df = pd.DataFrame({'S':Survived_S, 'C':Survived_C, 'Q':Survived_Q})\n",
    "df.plot(kind='bar', stacked=True)\n",
    "plt.title('Survived by Location')\n",
    "plt.xlabel('Survived') \n",
    "plt.ylabel('Count')\n",
    "plt.show()\n"
   ]
  },
  {
   "cell_type": "markdown",
   "metadata": {
    "_uuid": "19cf65f5504e7979a71f9ebf2b041d2eac20f29e"
   },
   "source": [
    "### Remove Unwanted Features"
   ]
  },
  {
   "cell_type": "code",
   "execution_count": 12,
   "metadata": {
    "_uuid": "e64337f5aaa106cece22e1d6555b6017f46700b6"
   },
   "outputs": [
    {
     "name": "stdout",
     "output_type": "stream",
     "text": [
      "(891, 5)\n",
      "(418, 5)\n"
     ]
    }
   ],
   "source": [
    "label = train.loc[:,'Survived']\n",
    "new_train = train.loc[:,['Pclass', 'Sex', 'Age', 'Fare', 'Embarked']]\n",
    "new_test = test.loc[:,['Pclass', 'Sex', 'Age', 'Fare', 'Embarked']]\n",
    "\n",
    "print(new_train.shape)\n",
    "print(new_test.shape)"
   ]
  },
  {
   "cell_type": "markdown",
   "metadata": {},
   "source": [
    "### Data Preprocessing"
   ]
  },
  {
   "cell_type": "markdown",
   "metadata": {
    "_uuid": "29ccd1754e223ce2edd954998b12edc1d8732137"
   },
   "source": [
    "#### Misssing Data"
   ]
  },
  {
   "cell_type": "code",
   "execution_count": 13,
   "metadata": {},
   "outputs": [
    {
     "name": "stdout",
     "output_type": "stream",
     "text": [
      "Age has null value(s)\n",
      "Fare has null value(s)\n",
      "Embarked has null value(s)\n"
     ]
    }
   ],
   "source": [
    "feature_list = ['Sex', 'Age', 'Fare', 'Pclass', 'Embarked']\n",
    "for feature in (feature_list):\n",
    "    if(train[feature].isnull().values.any() or test[feature].isnull().values.any()):\n",
    "        print(feature + ' has null value(s)')"
   ]
  },
  {
   "cell_type": "code",
   "execution_count": 14,
   "metadata": {
    "_cell_guid": "735702af-c353-40b4-b86d-c208082208cb",
    "_uuid": "1b5c4d9b779e0ef32c745f292216e7def363b3b1",
    "scrolled": true
   },
   "outputs": [
    {
     "name": "stdout",
     "output_type": "stream",
     "text": [
      "False\n",
      "False\n"
     ]
    }
   ],
   "source": [
    "def fill_NAN(data):  \n",
    "    data_copy = data.copy(deep=True)\n",
    "    data_copy.loc[:,'Age'] = data_copy['Age'].fillna(data_copy['Age'].median())\n",
    "    data_copy.loc[:,'Fare'] = data_copy['Fare'].fillna(data_copy['Fare'].median())\n",
    "    data_copy.loc[:,'Embarked'] = data_copy['Embarked'].fillna('S')\n",
    "    return data_copy\n",
    "\n",
    "\n",
    "train_no_nan = fill_NAN(new_train)\n",
    "test_no_nan = fill_NAN(new_test)\n",
    "\n",
    "print(train_no_nan.isnull().values.any())    \n",
    "print(test_no_nan.isnull().values.any())    "
   ]
  },
  {
   "cell_type": "markdown",
   "metadata": {
    "_uuid": "19ef248ef24b9039012067ce4e1170ebf08ecf63"
   },
   "source": [
    "#### Normalization"
   ]
  },
  {
   "cell_type": "code",
   "execution_count": 15,
   "metadata": {
    "_uuid": "e158c2f9fb24d5a79ec0096a20c363687eda6079"
   },
   "outputs": [
    {
     "name": "stdout",
     "output_type": "stream",
     "text": [
      "   Pclass Sex   Age     Fare Embarked\n",
      "0       3   1  22.0   7.2500        0\n",
      "1       1   0  38.0  71.2833        1\n",
      "2       3   0  26.0   7.9250        0\n",
      "3       1   0  35.0  53.1000        0\n",
      "4       3   1  35.0   8.0500        0\n",
      "   Pclass Sex   Age     Fare Embarked\n",
      "0       3   1  34.5   7.8292        2\n",
      "1       3   0  47.0   7.0000        0\n",
      "2       2   1  62.0   9.6875        2\n",
      "3       3   1  27.0   8.6625        0\n",
      "4       3   0  22.0  12.2875        0\n"
     ]
    }
   ],
   "source": [
    "def normalize(data):\n",
    "    data_copy = data.copy(deep=True)\n",
    "    data_copy.loc[data_copy['Sex'] == 'female', 'Sex'] = 0\n",
    "    data_copy.loc[data_copy['Sex'] == 'male', 'Sex'] = 1\n",
    "    data_copy.loc[data_copy['Embarked'] == 'S', 'Embarked'] = 0\n",
    "    data_copy.loc[data_copy['Embarked'] == 'C', 'Embarked'] = 1\n",
    "    data_copy.loc[data_copy['Embarked'] == 'Q', 'Embarked'] = 2\n",
    "    return data_copy\n",
    "\n",
    "\n",
    "normalized_train = normalize(train_no_nan)\n",
    "normalized_test = normalize(test_no_nan)\n",
    "print(normalized_train.head())\n",
    "print(normalized_test.head())"
   ]
  },
  {
   "cell_type": "markdown",
   "metadata": {},
   "source": [
    "### Cross Validation to Find the Best K"
   ]
  },
  {
   "cell_type": "code",
   "execution_count": 16,
   "metadata": {
    "collapsed": true
   },
   "outputs": [],
   "source": [
    "from sklearn.neighbors import KNeighborsClassifier\n",
    "from sklearn.model_selection import cross_val_score"
   ]
  },
  {
   "cell_type": "code",
   "execution_count": 17,
   "metadata": {
    "_uuid": "a8fe20738af3e2fd370c5121c55a7bc1fe4de5d3"
   },
   "outputs": [
    {
     "name": "stdout",
     "output_type": "stream",
     "text": [
      "k = 1, score = [ 0.62011173  0.67597765  0.70224719  0.69662921  0.70621469], mean = 0.680236095847\n",
      "k = 2, score = [ 0.61452514  0.7150838   0.70786517  0.69662921  0.66101695], mean = 0.679024053945\n",
      "k = 3, score = [ 0.66480447  0.68156425  0.71910112  0.74157303  0.70621469], mean = 0.702651512331\n",
      "k = 4, score = [ 0.63128492  0.69273743  0.69101124  0.68539326  0.70621469], mean = 0.681328306003\n",
      "k = 5, score = [ 0.63687151  0.66480447  0.69662921  0.70224719  0.71186441], mean = 0.682483357786\n",
      "k = 6, score = [ 0.60335196  0.70391061  0.69101124  0.6741573   0.74576271], mean = 0.683638764205\n",
      "k = 7, score = [ 0.62569832  0.72067039  0.70786517  0.70224719  0.75706215], mean = 0.702708644305\n",
      "k = 8, score = [ 0.61452514  0.68715084  0.70786517  0.70786517  0.71751412], mean = 0.686984087805\n",
      "k = 9, score = [ 0.61452514  0.68715084  0.71348315  0.73595506  0.73446328], mean = 0.697115491347\n",
      "k = 10, score = [ 0.61452514  0.70391061  0.71348315  0.71348315  0.75706215], mean = 0.700492838643\n",
      "k = 11, score = [ 0.60335196  0.68715084  0.70224719  0.73595506  0.75141243], mean = 0.696023493973\n",
      "k = 12, score = [ 0.62011173  0.68715084  0.71910112  0.73033708  0.74576271], mean = 0.700492696789\n",
      "k = 13, score = [ 0.60893855  0.69273743  0.71348315  0.74157303  0.74011299], mean = 0.699369030356\n",
      "k = 14, score = [ 0.60335196  0.7150838   0.73595506  0.70786517  0.74011299], mean = 0.700473794652\n",
      "k = 15, score = [ 0.59217877  0.70391061  0.73033708  0.70786517  0.75141243], mean = 0.697140812409\n",
      "k = 16, score = [ 0.60335196  0.7150838   0.7247191   0.71910112  0.73446328], mean = 0.699343851149\n",
      "k = 17, score = [ 0.59776536  0.70949721  0.73033708  0.71910112  0.73446328], mean = 0.698232809783\n",
      "k = 18, score = [ 0.62569832  0.73184358  0.71910112  0.7247191   0.75141243], mean = 0.710554910708\n",
      "k = 19, score = [ 0.62011173  0.73184358  0.73595506  0.73033708  0.74011299], mean = 0.711672087289\n",
      "k = 20, score = [ 0.59776536  0.73743017  0.73033708  0.7247191   0.72881356], mean = 0.703813053965\n",
      "k = 21, score = [ 0.56424581  0.74301676  0.73033708  0.73033708  0.74576271], mean = 0.7027398878\n",
      "k = 22, score = [ 0.60335196  0.75418994  0.71910112  0.73033708  0.76836158], mean = 0.715068336722\n",
      "k = 23, score = [ 0.59217877  0.73743017  0.73595506  0.73033708  0.75141243], mean = 0.709462700551\n",
      "k = 24, score = [ 0.59776536  0.73743017  0.71910112  0.71910112  0.75141243], mean = 0.704962041459\n",
      "k = 25, score = [ 0.59217877  0.73184358  0.71348315  0.71910112  0.74576271], mean = 0.700473865579\n",
      "k = 26, score = [ 0.60335196  0.73184358  0.71348315  0.71910112  0.74011299], mean = 0.701578558948\n",
      "k = 27, score = [ 0.58100559  0.73184358  0.7247191   0.75280899  0.72881356], mean = 0.703838162244\n",
      "k = 28, score = [ 0.58659218  0.73184358  0.70786517  0.73033708  0.72316384], mean = 0.695960368638\n",
      "k = 29, score = [ 0.58100559  0.70949721  0.71348315  0.74157303  0.71751412], mean = 0.692614619473\n",
      "k = 30, score = [ 0.58100559  0.73184358  0.70224719  0.70786517  0.71751412], mean = 0.688095129171\n",
      "k = 31, score = [ 0.58659218  0.72067039  0.70786517  0.7247191   0.72316384], mean = 0.692602136261\n",
      "k = 32, score = [ 0.59217877  0.72067039  0.70786517  0.7247191   0.72316384], mean = 0.693719454696\n",
      "k = 33, score = [ 0.58659218  0.69832402  0.70786517  0.73595506  0.72881356], mean = 0.691509997032\n",
      "k = 34, score = [ 0.59217877  0.7150838   0.70224719  0.73033708  0.71751412], mean = 0.691472192758\n",
      "k = 35, score = [ 0.59217877  0.7150838   0.71348315  0.74157303  0.70056497], mean = 0.692576744272\n",
      "k = 36, score = [ 0.58659218  0.72067039  0.71348315  0.73595506  0.71186441], mean = 0.693713035772\n",
      "k = 37, score = [ 0.57541899  0.72067039  0.71348315  0.73033708  0.70056497], mean = 0.688094916389\n",
      "k = 38, score = [ 0.58100559  0.72067039  0.70786517  0.73595506  0.69491525], mean = 0.688082291322\n",
      "k = 39, score = [ 0.58100559  0.73184358  0.70786517  0.73033708  0.69491525], mean = 0.689193332688\n",
      "k = 40, score = [ 0.58659218  0.72625698  0.71348315  0.71910112  0.69491525], mean = 0.688069737182\n",
      "k = 41, score = [ 0.58100559  0.73184358  0.71348315  0.71910112  0.69491525], mean = 0.688069737182\n",
      "k = 42, score = [ 0.58659218  0.72625698  0.71348315  0.70224719  0.70056497], mean = 0.685828894168\n",
      "k = 43, score = [ 0.58100559  0.7150838   0.71348315  0.70224719  0.70056497], mean = 0.682476938861\n",
      "k = 44, score = [ 0.59217877  0.72067039  0.71348315  0.70224719  0.70056497], mean = 0.685828894168\n",
      "k = 45, score = [ 0.57541899  0.69832402  0.70786517  0.69662921  0.71751412], mean = 0.679150304615\n",
      "k = 46, score = [ 0.59217877  0.70391061  0.71348315  0.70224719  0.71751412], mean = 0.685866769369\n",
      "k = 47, score = [ 0.58659218  0.7150838   0.71348315  0.70224719  0.72316384], mean = 0.688114031308\n",
      "k = 48, score = [ 0.59217877  0.7150838   0.69662921  0.70224719  0.71751412], mean = 0.684730619724\n",
      "k = 49, score = [ 0.58659218  0.72067039  0.69662921  0.70786517  0.70621469], mean = 0.683594328224\n",
      "k = 50, score = [ 0.58100559  0.73184358  0.69662921  0.70224719  0.70621469], mean = 0.683588051154\n"
     ]
    },
    {
     "data": {
      "image/png": "[encoded data removed]",
      "text/plain": [
       "<matplotlib.figure.Figure at 0x1164e7550>"
      ]
     },
     "metadata": {},
     "output_type": "display_data"
    },
    {
     "data": {
      "text/plain": [
       "22"
      ]
     },
     "execution_count": 17,
     "metadata": {},
     "output_type": "execute_result"
    }
   ],
   "source": [
    "def cross_validation(k):\n",
    "    k_scores = []\n",
    "    for k in range(1,k+1):\n",
    "        knn=KNeighborsClassifier(n_neighbors=k)\n",
    "        scores = cross_val_score(knn, normalized_train, label, cv = 5, scoring='accuracy')\n",
    "        print(\"k = \" + str(k) + \", score = \" + str(scores) + \", mean = \" +  str(scores.mean()))\n",
    "        k_scores.append(scores.mean())\n",
    "        \n",
    "    plt.plot(range(1, k+1), k_scores)\n",
    "    plt.xlabel('K for KNN')\n",
    "    plt.ylabel('Cross Validation Accuracy')\n",
    "    plt.show()\n",
    "    \n",
    "    max = 0\n",
    "    ans = 0\n",
    "    for index, score in enumerate(k_scores):\n",
    "        if score > max:\n",
    "            max = score\n",
    "            ans = index\n",
    "    return ans + 1  \n",
    "\n",
    "cross_validation(50)"
   ]
  },
  {
   "cell_type": "markdown",
   "metadata": {},
   "source": [
    "### Predict"
   ]
  },
  {
   "cell_type": "code",
   "execution_count": 18,
   "metadata": {
    "_cell_guid": "58afa24c-c277-9764-f235-b110b512ea0d",
    "_uuid": "e05b0b726b2c221715107906bbd0a59a33cea43c",
    "collapsed": true
   },
   "outputs": [],
   "source": [
    "clf = KNeighborsClassifier(n_neighbors=22)\n",
    "clf.fit(normalized_train, label)\n",
    "result=clf.predict(normalized_test)"
   ]
  },
  {
   "cell_type": "code",
   "execution_count": 19,
   "metadata": {
    "_cell_guid": "5cd9c1a3-f817-bbde-96c4-350cf77b0206",
    "_uuid": "88f2551afcf335a7e1a33cfc2cd83f51e36a3fd8"
   },
   "outputs": [
    {
     "name": "stdout",
     "output_type": "stream",
     "text": [
      "[0 0 0 0 0 0 1 1 0 0 0 0 1 0 1 0 0 0 0 0 1 0 1 1 1 0 1 0 0 0 0 1 0 0 1 0 0\n",
      " 0 0 1 0 0 0 1 1 0 0 0 1 0 1 0 0 1 0 0 0 0 0 1 0 0 0 0 1 0 0 0 1 1 0 0 0 0\n",
      " 1 1 0 0 0 0 1 1 0 0 0 0 1 0 1 1 0 0 1 0 0 0 1 0 0 0 1 0 0 0 0 0 0 0 0 0 0\n",
      " 1 0 0 1 0 0 1 0 0 0 0 1 0 0 0 0 0 0 0 0 0 0 0 0 0 0 0 0 1 0 1 1 0 0 0 1 0\n",
      " 0 0 1 0 0 0 0 0 1 0 0 0 1 1 0 0 0 0 1 1 0 0 0 0 0 0 0 0 0 0 0 1 0 1 1 0 1\n",
      " 0 0 0 0 0 0 0 0 0 0 0 1 0 0 0 0 1 1 0 0 0 0 0 1 0 0 0 0 0 0 0 1 1 1 0 0 0\n",
      " 0 0 0 0 0 1 0 0 0 1 0 0 0 0 1 0 0 1 0 0 1 0 0 1 1 0 0 0 1 0 1 0 0 0 0 0 0\n",
      " 0 0 0 0 1 1 0 0 0 0 0 1 0 1 0 0 1 0 0 0 0 0 1 1 1 1 0 0 1 0 0 0 1 0 1 0 0\n",
      " 0 0 1 0 0 0 0 0 1 0 1 1 1 0 0 0 0 0 1 0 1 0 0 1 0 0 0 1 1 0 0 1 0 0 0 0 0\n",
      " 0 0 0 0 0 1 0 0 0 0 1 0 0 0 0 0 0 1 0 0 1 1 0 0 0 0 0 0 1 0 0 1 0 0 0 1 0\n",
      " 0 1 0 0 1 1 0 0 0 0 0 0 0 0 0 0 0 0 0 1 1 0 0 0 0 1 0 1 0 0 1 0 1 0 0 0 0\n",
      " 1 1 1 1 1 0 0 1 0 0 0]\n"
     ]
    }
   ],
   "source": [
    "print(result)"
   ]
  },
  {
   "cell_type": "markdown",
   "metadata": {
    "_uuid": "069ad2faf6fc6deee907967dcc5855544878197d"
   },
   "source": [
    "### Save Results to File"
   ]
  },
  {
   "cell_type": "code",
   "execution_count": 20,
   "metadata": {
    "_cell_guid": "6ecacbd2-b4ad-0b4a-b744-5f415047509a",
    "_uuid": "c0d8379c8db33ed7a4a46ec491694ea65ea9ff98",
    "collapsed": true
   },
   "outputs": [],
   "source": [
    "df = pd.DataFrame({\"PassengerId\": test['PassengerId'],\"Survived\": result})\n",
    "df.to_csv('Submission.csv',header=True, index=False)"
   ]
  },
  {
   "cell_type": "markdown",
   "metadata": {
    "_uuid": "a986c1e90ac230c5e76d84786dd65b21295a37a1",
    "collapsed": true
   },
   "source": [
    "### Kaggle Result"
   ]
  },
  {
   "cell_type": "markdown",
   "metadata": {},
   "source": [
    "The Kaggle score for this project is 0.66507"
   ]
  }
 ],
 "metadata": {
  "_change_revision": 0,
  "_is_fork": false,
  "kernelspec": {
   "display_name": "Python 3",
   "language": "python",
   "name": "python3"
  },
  "language_info": {
   "codemirror_mode": {
    "name": "ipython",
    "version": 3
   },
   "file_extension": ".py",
   "mimetype": "text/x-python",
   "name": "python",
   "nbconvert_exporter": "python",
   "pygments_lexer": "ipython3",
   "version": "3.6.1"
  }
 },
 "nbformat": 4,
 "nbformat_minor": 1
}
