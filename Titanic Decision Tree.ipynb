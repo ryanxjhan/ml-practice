{
 "cells": [
  {
   "cell_type": "markdown",
   "metadata": {
    "_cell_guid": "f7e160c8-1258-4634-8f14-fe5b6fe740d0",
    "_uuid": "63c7428f97456f0370462d7687a267a242c83da3"
   },
   "source": [
    "## Tinanic"
   ]
  },
  {
   "cell_type": "code",
   "execution_count": 1,
   "metadata": {
    "_cell_guid": "9c3581fa-95bc-4f96-bc15-f6c1277caf05",
    "_uuid": "1b1dcd7072d5771a5a934c13635521f2927636a6"
   },
   "outputs": [],
   "source": [
    "%matplotlib inline\n",
    "import os\n",
    "import pandas as pd\n",
    "import numpy as np\n",
    "import seaborn as sns\n",
    "import matplotlib.pyplot as plt"
   ]
  },
  {
   "cell_type": "markdown",
   "metadata": {
    "_cell_guid": "b5cd0465-021a-49d3-9675-880eaaf5ce33",
    "_uuid": "d6de478d0532582de3272859f0fb475d46b23ad5"
   },
   "source": [
    "#### 读取数据并打印基本信息"
   ]
  },
  {
   "cell_type": "code",
   "execution_count": 2,
   "metadata": {
    "_cell_guid": "17be4c07-7e0c-42fd-82f9-75ba23eb2b56",
    "_uuid": "63b0aa07a040aac1f6b254f55d5daab670aa2981"
   },
   "outputs": [],
   "source": [
    "data = pd.read_csv(os.path.join(\"../Data/Titanic\", \"train.csv\"), sep=\",\")"
   ]
  },
  {
   "cell_type": "code",
   "execution_count": 3,
   "metadata": {
    "_cell_guid": "d3892bce-960b-463c-826d-7122f19e9224",
    "_uuid": "5b0b05f3e3ed5eaa60363303bdfc0de9b3d5a35f"
   },
   "outputs": [
    {
     "name": "stdout",
     "output_type": "stream",
     "text": [
      "<class 'pandas.core.frame.DataFrame'>\n",
      "RangeIndex: 891 entries, 0 to 890\n",
      "Data columns (total 12 columns):\n",
      "PassengerId    891 non-null int64\n",
      "Survived       891 non-null int64\n",
      "Pclass         891 non-null int64\n",
      "Name           891 non-null object\n",
      "Sex            891 non-null object\n",
      "Age            714 non-null float64\n",
      "SibSp          891 non-null int64\n",
      "Parch          891 non-null int64\n",
      "Ticket         891 non-null object\n",
      "Fare           891 non-null float64\n",
      "Cabin          204 non-null object\n",
      "Embarked       889 non-null object\n",
      "dtypes: float64(2), int64(5), object(5)\n",
      "memory usage: 83.6+ KB\n"
     ]
    }
   ],
   "source": [
    "data.info()"
   ]
  },
  {
   "cell_type": "code",
   "execution_count": 4,
   "metadata": {
    "_cell_guid": "7a224b21-34fd-44d8-a60c-6f7d3260f576",
    "_uuid": "fb5cd7eb06a6e45b1a0166108f8dabaed61ff3f2"
   },
   "outputs": [
    {
     "data": {
      "text/html": [
       "<div>\n",
       "<style scoped>\n",
       "    .dataframe tbody tr th:only-of-type {\n",
       "        vertical-align: middle;\n",
       "    }\n",
       "\n",
       "    .dataframe tbody tr th {\n",
       "        vertical-align: top;\n",
       "    }\n",
       "\n",
       "    .dataframe thead th {\n",
       "        text-align: right;\n",
       "    }\n",
       "</style>\n",
       "<table border=\"1\" class=\"dataframe\">\n",
       "  <thead>\n",
       "    <tr style=\"text-align: right;\">\n",
       "      <th></th>\n",
       "      <th>PassengerId</th>\n",
       "      <th>Survived</th>\n",
       "      <th>Pclass</th>\n",
       "      <th>Name</th>\n",
       "      <th>Sex</th>\n",
       "      <th>Age</th>\n",
       "      <th>SibSp</th>\n",
       "      <th>Parch</th>\n",
       "      <th>Ticket</th>\n",
       "      <th>Fare</th>\n",
       "      <th>Cabin</th>\n",
       "      <th>Embarked</th>\n",
       "    </tr>\n",
       "  </thead>\n",
       "  <tbody>\n",
       "    <tr>\n",
       "      <th>0</th>\n",
       "      <td>1</td>\n",
       "      <td>0</td>\n",
       "      <td>3</td>\n",
       "      <td>Braund, Mr. Owen Harris</td>\n",
       "      <td>male</td>\n",
       "      <td>22.0</td>\n",
       "      <td>1</td>\n",
       "      <td>0</td>\n",
       "      <td>A/5 21171</td>\n",
       "      <td>7.2500</td>\n",
       "      <td>NaN</td>\n",
       "      <td>S</td>\n",
       "    </tr>\n",
       "    <tr>\n",
       "      <th>1</th>\n",
       "      <td>2</td>\n",
       "      <td>1</td>\n",
       "      <td>1</td>\n",
       "      <td>Cumings, Mrs. John Bradley (Florence Briggs Th...</td>\n",
       "      <td>female</td>\n",
       "      <td>38.0</td>\n",
       "      <td>1</td>\n",
       "      <td>0</td>\n",
       "      <td>PC 17599</td>\n",
       "      <td>71.2833</td>\n",
       "      <td>C85</td>\n",
       "      <td>C</td>\n",
       "    </tr>\n",
       "    <tr>\n",
       "      <th>2</th>\n",
       "      <td>3</td>\n",
       "      <td>1</td>\n",
       "      <td>3</td>\n",
       "      <td>Heikkinen, Miss. Laina</td>\n",
       "      <td>female</td>\n",
       "      <td>26.0</td>\n",
       "      <td>0</td>\n",
       "      <td>0</td>\n",
       "      <td>STON/O2. 3101282</td>\n",
       "      <td>7.9250</td>\n",
       "      <td>NaN</td>\n",
       "      <td>S</td>\n",
       "    </tr>\n",
       "  </tbody>\n",
       "</table>\n",
       "</div>"
      ],
      "text/plain": [
       "   PassengerId  Survived  Pclass  \\\n",
       "0            1         0       3   \n",
       "1            2         1       1   \n",
       "2            3         1       3   \n",
       "\n",
       "                                                Name     Sex   Age  SibSp  \\\n",
       "0                            Braund, Mr. Owen Harris    male  22.0      1   \n",
       "1  Cumings, Mrs. John Bradley (Florence Briggs Th...  female  38.0      1   \n",
       "2                             Heikkinen, Miss. Laina  female  26.0      0   \n",
       "\n",
       "   Parch            Ticket     Fare Cabin Embarked  \n",
       "0      0         A/5 21171   7.2500   NaN        S  \n",
       "1      0          PC 17599  71.2833   C85        C  \n",
       "2      0  STON/O2. 3101282   7.9250   NaN        S  "
      ]
     },
     "execution_count": 4,
     "metadata": {},
     "output_type": "execute_result"
    }
   ],
   "source": [
    "data.head(3)"
   ]
  },
  {
   "cell_type": "markdown",
   "metadata": {
    "_cell_guid": "8bf0cbad-0b9f-4664-aab1-e2060b0bfd66",
    "_uuid": "340d944405842501c175a4e97da97c72d39324f7"
   },
   "source": [
    "#### 预测目标的基本分布"
   ]
  },
  {
   "cell_type": "code",
   "execution_count": 7,
   "metadata": {
    "_cell_guid": "f4ef07de-c1dd-4199-b9f9-0200e8fb1537",
    "_uuid": "ad31ed48cec7dcd4b033b6dc818362c5d4c1a74f"
   },
   "outputs": [
    {
     "data": {
      "text/plain": [
       "0    0.616162\n",
       "1    0.383838\n",
       "Name: Survived, dtype: float64"
      ]
     },
     "execution_count": 7,
     "metadata": {},
     "output_type": "execute_result"
    }
   ],
   "source": [
    "data['Survived'].value_counts(normalize=True)"
   ]
  },
  {
   "cell_type": "code",
   "execution_count": 8,
   "metadata": {
    "_cell_guid": "9be1200e-dcc8-45d4-9d4c-e2a3bb144414",
    "_uuid": "7052a19e5d05d703d3df003046a0fce99ae38432"
   },
   "outputs": [
    {
     "data": {
      "text/plain": [
       "<matplotlib.axes._subplots.AxesSubplot at 0x7f3094a9fd30>"
      ]
     },
     "execution_count": 8,
     "metadata": {},
     "output_type": "execute_result"
    },
    {
     "data": {
      "image/png": "[encoded data removed]",
      "text/plain": [
       "<Figure size 432x288 with 1 Axes>"
      ]
     },
     "metadata": {},
     "output_type": "display_data"
    }
   ],
   "source": [
    "sns.countplot(data['Survived'])"
   ]
  },
  {
   "cell_type": "markdown",
   "metadata": {
    "_cell_guid": "9d400b88-ebe5-4e24-98da-5372ad5336a3",
    "_uuid": "d59869be0d5d9c7f1fa962401965d815d424b904"
   },
   "source": [
    "#### 舱位与预测目标的关系"
   ]
  },
  {
   "cell_type": "code",
   "execution_count": 10,
   "metadata": {
    "_cell_guid": "eead5d2d-20ca-4a08-8978-86d751368d53",
    "_uuid": "e0c07eab01a33e2cb69ab5179d53271313f61dc5"
   },
   "outputs": [
    {
     "data": {
      "text/plain": [
       "<matplotlib.axes._subplots.AxesSubplot at 0x7f308eeab048>"
      ]
     },
     "execution_count": 10,
     "metadata": {},
     "output_type": "execute_result"
    },
    {
     "data": {
      "image/png": "[encoded data removed]",
      "text/plain": [
       "<Figure size 432x288 with 1 Axes>"
      ]
     },
     "metadata": {},
     "output_type": "display_data"
    }
   ],
   "source": [
    "sns.countplot(data['Pclass'], hue=data['Survived'])"
   ]
  },
  {
   "cell_type": "markdown",
   "metadata": {
    "_cell_guid": "d4eb4491-e844-4905-ac2e-922adfad9676",
    "_uuid": "cc019aac06a4fb8eaa0ee80fbe65594bde272df3"
   },
   "source": [
    "#### 名字的信息"
   ]
  },
  {
   "cell_type": "code",
   "execution_count": 11,
   "metadata": {
    "_cell_guid": "8f44692c-b929-41d8-848b-e3b721203f33",
    "_uuid": "ee51a4f7812417f0ce9f62480204726d413aab2b"
   },
   "outputs": [
    {
     "data": {
      "text/plain": [
       "0                              Braund, Mr. Owen Harris\n",
       "1    Cumings, Mrs. John Bradley (Florence Briggs Th...\n",
       "2                               Heikkinen, Miss. Laina\n",
       "3         Futrelle, Mrs. Jacques Heath (Lily May Peel)\n",
       "4                             Allen, Mr. William Henry\n",
       "Name: Name, dtype: object"
      ]
     },
     "execution_count": 11,
     "metadata": {},
     "output_type": "execute_result"
    }
   ],
   "source": [
    "data['Name'].head()"
   ]
  },
  {
   "cell_type": "markdown",
   "metadata": {
    "_cell_guid": "cf0eeccd-b141-415b-a5d4-fe10fc4cf5d6",
    "_uuid": "cff82b887a39a6a9d2ed44b119801b20c4121c47"
   },
   "source": [
    "#### 对名字属性进行变换  \n",
    "- 取名字的title"
   ]
  },
  {
   "cell_type": "code",
   "execution_count": 12,
   "metadata": {
    "_cell_guid": "2d620fc5-da04-4a6b-85f8-8bdb19b05e97",
    "_uuid": "f6f2417133a2e0395a240dbf96a3a80a4e0450f9"
   },
   "outputs": [],
   "source": [
    "data['Name_title'] = data['Name'].apply(lambda x: x.split(',')[1] if len(x.split(',')) > 1 else x.split(',')[0]).apply(lambda x: x.split()[0])"
   ]
  },
  {
   "cell_type": "code",
   "execution_count": 13,
   "metadata": {
    "_cell_guid": "9840426d-d6a6-44e0-b21a-5169edbdab3c",
    "_uuid": "3c6bbb305ab2e2349911271d9a8f185e185e6b17"
   },
   "outputs": [
    {
     "data": {
      "text/plain": [
       "Mr.          517\n",
       "Miss.        182\n",
       "Mrs.         125\n",
       "Master.       40\n",
       "Dr.            7\n",
       "Rev.           6\n",
       "Mlle.          2\n",
       "Col.           2\n",
       "Major.         2\n",
       "Don.           1\n",
       "Mme.           1\n",
       "the            1\n",
       "Ms.            1\n",
       "Capt.          1\n",
       "Jonkheer.      1\n",
       "Sir.           1\n",
       "Lady.          1\n",
       "Name: Name_title, dtype: int64"
      ]
     },
     "execution_count": 13,
     "metadata": {},
     "output_type": "execute_result"
    }
   ],
   "source": [
    "data['Name_title'].value_counts()"
   ]
  },
  {
   "cell_type": "markdown",
   "metadata": {
    "_cell_guid": "903e5a09-06ef-43b6-8be4-9f4e9bd47657",
    "_uuid": "065c423147b70f124e10a62398ec0595383c64d8"
   },
   "source": [
    "#### 名字的title与存活与否的关系"
   ]
  },
  {
   "cell_type": "code",
   "execution_count": 14,
   "metadata": {
    "_cell_guid": "67e56a9c-bcdc-4d8e-823d-d26c8d6f61a7",
    "_uuid": "1925e8e15da8df07199e193a6efca1e2195f8fc0"
   },
   "outputs": [
    {
     "data": {
      "text/plain": [
       "Name_title\n",
       "Capt.        0.000000\n",
       "Col.         0.500000\n",
       "Don.         0.000000\n",
       "Dr.          0.428571\n",
       "Jonkheer.    0.000000\n",
       "Lady.        1.000000\n",
       "Major.       0.500000\n",
       "Master.      0.575000\n",
       "Miss.        0.697802\n",
       "Mlle.        1.000000\n",
       "Mme.         1.000000\n",
       "Mr.          0.156673\n",
       "Mrs.         0.792000\n",
       "Ms.          1.000000\n",
       "Rev.         0.000000\n",
       "Sir.         1.000000\n",
       "the          1.000000\n",
       "Name: Survived, dtype: float64"
      ]
     },
     "execution_count": 14,
     "metadata": {},
     "output_type": "execute_result"
    }
   ],
   "source": [
    "data['Survived'].groupby(data['Name_title']).mean()"
   ]
  },
  {
   "cell_type": "markdown",
   "metadata": {
    "_cell_guid": "52e33a3a-f6cd-4fd7-8653-1af07c66097e",
    "_uuid": "0ebb97dd61cbfa3de15cdcccd379259b512db4b8"
   },
   "source": [
    "#### 取名字的长度"
   ]
  },
  {
   "cell_type": "code",
   "execution_count": 15,
   "metadata": {
    "_cell_guid": "e40c6bd3-e3d3-45b9-9c20-42fe5465fdfe",
    "_uuid": "15f40ea7716bfdfbd094f98c169f45c767997453"
   },
   "outputs": [],
   "source": [
    "data['Name_len'] = data['Name'].apply(lambda x: len(x))"
   ]
  },
  {
   "cell_type": "markdown",
   "metadata": {
    "_cell_guid": "4f5e09ac-a38a-4991-a71b-cfe8af344802",
    "_uuid": "f0ed640f5272a3e8a0289dbbbe3c6d845d1d1636"
   },
   "source": [
    "#### 名字长度与存活与否的关系"
   ]
  },
  {
   "cell_type": "code",
   "execution_count": 17,
   "metadata": {
    "_cell_guid": "1bfb62bb-c05b-4090-a9eb-901e0973b194",
    "_uuid": "7aa2b538e2849d69b210ef3d54eb5e5ff2c756ff"
   },
   "outputs": [
    {
     "data": {
      "text/plain": [
       "Name_len\n",
       "(11.999, 19.0]    0.220588\n",
       "(19.0, 23.0]      0.301282\n",
       "(23.0, 27.0]      0.319797\n",
       "(27.0, 32.0]      0.442424\n",
       "(32.0, 82.0]      0.674556\n",
       "Name: Survived, dtype: float64"
      ]
     },
     "execution_count": 17,
     "metadata": {},
     "output_type": "execute_result"
    }
   ],
   "source": [
    "data['Survived'].groupby(pd.qcut(data['Name_len'], 5)).mean()"
   ]
  },
  {
   "cell_type": "markdown",
   "metadata": {
    "_cell_guid": "364c2e62-bb48-4189-93e0-7725b0772460",
    "_uuid": "6669683c4a7bb40a5f80eb6dbb43ddfd4b7fc24f"
   },
   "source": [
    "#### 性别的分布与最后幸存的关系"
   ]
  },
  {
   "cell_type": "code",
   "execution_count": 18,
   "metadata": {
    "_cell_guid": "0ab8d8e1-91f3-4290-b496-c5936ae5ed6e",
    "_uuid": "8d1df3e6c1d411cdbab01bd5ed4d31969aaea8e2"
   },
   "outputs": [
    {
     "data": {
      "text/plain": [
       "male      0.647587\n",
       "female    0.352413\n",
       "Name: Sex, dtype: float64"
      ]
     },
     "execution_count": 18,
     "metadata": {},
     "output_type": "execute_result"
    }
   ],
   "source": [
    "data['Sex'].value_counts(normalize=True)"
   ]
  },
  {
   "cell_type": "code",
   "execution_count": 19,
   "metadata": {
    "_cell_guid": "bcfebd1c-a655-46fd-aad1-608716f25668",
    "_uuid": "8d07225c393da778988a42734bb038a5bf055411"
   },
   "outputs": [
    {
     "data": {
      "text/plain": [
       "Sex\n",
       "female    0.742038\n",
       "male      0.188908\n",
       "Name: Survived, dtype: float64"
      ]
     },
     "execution_count": 19,
     "metadata": {},
     "output_type": "execute_result"
    }
   ],
   "source": [
    "data['Survived'].groupby(data['Sex']).mean()"
   ]
  },
  {
   "cell_type": "markdown",
   "metadata": {
    "_cell_guid": "3477456d-f23b-4b30-89e9-42f06d99cca3",
    "_uuid": "1b9c0605591a050813b1f9eeb7068d64e15886fe"
   },
   "source": [
    "#### 年龄与幸存的关系  \n",
    "- 缺失数据的处理  \n",
    "  1 实值： 中位数或者平均数去补  \n",
    "  2 类别： major class去补"
   ]
  },
  {
   "cell_type": "code",
   "execution_count": 20,
   "metadata": {
    "_cell_guid": "2e8b272e-67f1-406d-b048-8b5af81a69ba",
    "_uuid": "4aeebd64c9f5e2abc01252d34d513b3389ba06eb"
   },
   "outputs": [
    {
     "data": {
      "text/plain": [
       "Age\n",
       "(0.419, 19.0]    0.481707\n",
       "(19.0, 25.0]     0.328467\n",
       "(25.0, 31.8]     0.393701\n",
       "(31.8, 41.0]     0.437500\n",
       "(41.0, 80.0]     0.373239\n",
       "Name: Survived, dtype: float64"
      ]
     },
     "execution_count": 20,
     "metadata": {},
     "output_type": "execute_result"
    }
   ],
   "source": [
    "data['Survived'].groupby(pd.qcut(data['Age'], 5)).mean()"
   ]
  },
  {
   "cell_type": "markdown",
   "metadata": {
    "_cell_guid": "605e9fa0-ad62-4b4b-abcc-b1a5f2b1df4c",
    "_uuid": "59d5543a91c180df4901e4af2ab39f8fc96d6121"
   },
   "source": [
    "#### 登船的地点与幸存的关系"
   ]
  },
  {
   "cell_type": "code",
   "execution_count": 21,
   "metadata": {
    "_cell_guid": "b9632620-7ea9-4697-bb2a-78dfbfd70aa5",
    "_uuid": "cbb82eab2b282d58e2815649e5ff194fd497cfad"
   },
   "outputs": [
    {
     "data": {
      "text/plain": [
       "S    644\n",
       "C    168\n",
       "Q     77\n",
       "Name: Embarked, dtype: int64"
      ]
     },
     "execution_count": 21,
     "metadata": {},
     "output_type": "execute_result"
    }
   ],
   "source": [
    "data['Embarked'].value_counts()"
   ]
  },
  {
   "cell_type": "code",
   "execution_count": 22,
   "metadata": {
    "_cell_guid": "c82dcfad-271e-4291-9550-ec0655a6cb8d",
    "_uuid": "4c547af21bde52c7328123ec2fc8ec7427619917"
   },
   "outputs": [
    {
     "data": {
      "text/plain": [
       "Embarked\n",
       "C    0.553571\n",
       "Q    0.389610\n",
       "S    0.336957\n",
       "Name: Survived, dtype: float64"
      ]
     },
     "execution_count": 22,
     "metadata": {},
     "output_type": "execute_result"
    }
   ],
   "source": [
    "data['Survived'].groupby(data['Embarked']).mean()"
   ]
  },
  {
   "cell_type": "code",
   "execution_count": 23,
   "metadata": {
    "_cell_guid": "698894e9-b273-4779-86fc-509513bda5a1",
    "_uuid": "7575cd9fa2c06edd66c02d9786afe0a4804a968f"
   },
   "outputs": [
    {
     "data": {
      "text/plain": [
       "<matplotlib.axes._subplots.AxesSubplot at 0x7f308ee545f8>"
      ]
     },
     "execution_count": 23,
     "metadata": {},
     "output_type": "execute_result"
    },
    {
     "data": {
      "image/png": "[encoded data removed]",
      "text/plain": [
       "<Figure size 432x288 with 1 Axes>"
      ]
     },
     "metadata": {},
     "output_type": "display_data"
    }
   ],
   "source": [
    "sns.countplot(data['Embarked'], hue=data['Pclass'])"
   ]
  },
  {
   "cell_type": "markdown",
   "metadata": {
    "_cell_guid": "aff533a5-b841-4d68-9eb1-d72098cf22be",
    "_uuid": "fe34b9757ee6a5026bd0f28b8baec67d733fd8bc"
   },
   "source": [
    "### 新来了一个小鲜肉，基本信息如下  \n"
   ]
  },
  {
   "cell_type": "markdown",
   "metadata": {
    "_cell_guid": "df307897-6698-46ac-a4ad-310a0dc9398f",
    "_uuid": "766a17110837ced1ccb82330852497ae8bd0fa05"
   },
   "source": [
    "#### Feature Transform"
   ]
  },
  {
   "cell_type": "code",
   "execution_count": null,
   "metadata": {
    "_cell_guid": "8358077d-8f08-4013-9232-4037ce04c397",
    "_uuid": "c2cb4f433cbcd5ffe9798d279ade1d508d7d8505",
    "collapsed": true
   },
   "outputs": [],
   "source": [
    "def name(data):\n",
    "    data['name_len'] = data['name'].apply(lambda x: len(x))\n",
    "    data['name_title'] = data['name'].apply(lambda x: x.split(',')[1] if len(x.split(',')) > 1 else x.split(',')[0]).apply(lambda x: x.split()[0])\n",
    "    del data['name']\n",
    "    return data\n",
    "\n",
    "def age(data):\n",
    "    data['age_flag'] = data['age'].apply(lambda x: 1 if pd.isnull(x) else 0)\n",
    "    grouped_age = data.groupby(['name_title', 'pclass'])['age']\n",
    "    data['age'] = grouped_age.transform(lambda x: x.fillna(data['age'].mean()) if pd.isnull(x.mean()) else x.fillna(x.mean()))\n",
    "    return data\n",
    "\n",
    "def embark(data):\n",
    "    data['embarked'] = data['embarked'].fillna('Southampton')\n",
    "    return data\n",
    "\n",
    "\n",
    "def dummies(data, columns=['pclass','name_title','embarked', 'sex']):\n",
    "    for col in columns:\n",
    "        data[col] = data[col].apply(lambda x: str(x))\n",
    "        new_cols = [col + '_' + i for i in data[col].unique()]\n",
    "        data = pd.concat([data, pd.get_dummies(data[col], prefix=col)[new_cols]], axis=1)\n",
    "        del data[col]\n",
    "    return data"
   ]
  },
  {
   "cell_type": "markdown",
   "metadata": {
    "_cell_guid": "f52b5c6d-5004-4f3a-b6be-b255e8126623",
    "_uuid": "24e205e85c2d9d322c7cfa7be898a955663c735d"
   },
   "source": [
    "#### 预处理输入数据  \n",
    "- 去掉不需要的特征  \n",
    "- 对某些特征进行变换"
   ]
  },
  {
   "cell_type": "code",
   "execution_count": null,
   "metadata": {
    "_cell_guid": "61f82890-f281-4f8d-ba01-a1f458d9f886",
    "_uuid": "02284b29107a79e71ef69f2a51c7d76f60f526f8",
    "collapsed": true
   },
   "outputs": [],
   "source": [
    "drop_columns = ['row.names', 'home.dest', 'room', 'ticket', 'boat'] #+ ['ticket_len', 'ticket_title']\n",
    "data = data.drop(drop_columns, axis=1)\n",
    "data.head()"
   ]
  },
  {
   "cell_type": "code",
   "execution_count": null,
   "metadata": {
    "_cell_guid": "c5e09952-1b50-4e5d-9eff-d21d576f92f4",
    "_uuid": "eda8da0a4affb223230b6bd28c97a6e437b5731e",
    "collapsed": true
   },
   "outputs": [],
   "source": [
    "data = name(data)\n",
    "data = age(data)\n",
    "data = embark(data)\n",
    "data = dummies(data)\n",
    "data.head()"
   ]
  },
  {
   "cell_type": "markdown",
   "metadata": {
    "_cell_guid": "d03f0056-8590-4ac7-9c27-164218736096",
    "_uuid": "e6128d33c172764502ffd37c85711ad6d9c4a16b"
   },
   "source": [
    "####  调用决策树模型并预测结果"
   ]
  },
  {
   "cell_type": "code",
   "execution_count": null,
   "metadata": {
    "_cell_guid": "5fe4e4b6-3109-416f-a08f-b9804e60d5e2",
    "_uuid": "54d449867bb6f0af888b7e865188b32d7e081747",
    "collapsed": true
   },
   "outputs": [],
   "source": [
    "from sklearn.model_selection import train_test_split\n",
    "from sklearn import tree\n",
    "trainX, testX, trainY, testY = train_test_split(data.iloc[:,1:], data.iloc[:,0], test_size=0.2, random_state=33)\n",
    "\n",
    "model = tree.DecisionTreeClassifier(criterion='entropy', max_depth=3, min_samples_leaf=5)\n",
    "model.fit(trainX, trainY)"
   ]
  },
  {
   "cell_type": "code",
   "execution_count": null,
   "metadata": {
    "_cell_guid": "5bac57f7-e243-4af1-820d-b09ce7c990e3",
    "_uuid": "ea5e29af3108d528c1c8255ac1eb75c36df9836e",
    "collapsed": true
   },
   "outputs": [],
   "source": [
    "from sklearn import metrics\n",
    "def measure_performance(X, y, clf, show_accuracy=True, show_classification_report=True, show_confussion_matrix=True):\n",
    "    y_pred = clf.predict(X)\n",
    "    if show_accuracy:\n",
    "        print(\"Accuracy:{0:.3f}\".format(metrics.accuracy_score(y, y_pred)),\"\\n\")\n",
    "    \n",
    "    if show_classification_report:\n",
    "        print(\"Classification report\")\n",
    "        print(metrics.classification_report(y, y_pred), \"\\n\")\n",
    "    \n",
    "    if show_confussion_matrix:\n",
    "        print(\"Confusion matrix\")\n",
    "        print(metrics.confusion_matrix(y, y_pred), \"\\n\")"
   ]
  },
  {
   "cell_type": "code",
   "execution_count": null,
   "metadata": {
    "_cell_guid": "8e49cbe4-083a-4007-98a3-0482b596012e",
    "_uuid": "73f3ed4e9164461a071b397d1cd5aee4e7d9a805",
    "collapsed": true
   },
   "outputs": [],
   "source": [
    "measure_performance(testX, testY, model)"
   ]
  },
  {
   "cell_type": "markdown",
   "metadata": {
    "_cell_guid": "a615575c-85e6-44d7-b37d-ef315974eb44",
    "_uuid": "ce438a95d25df4728784fe6f26f0cf49cd7387eb"
   },
   "source": [
    "#### 不做特征分析直接调用决策树模型"
   ]
  },
  {
   "cell_type": "code",
   "execution_count": null,
   "metadata": {
    "_cell_guid": "2a953dd9-78ff-4ad0-8e04-f6e47222ae7c",
    "_uuid": "c07b7ec768ddbde5582704632283e0245debc4c4",
    "collapsed": true
   },
   "outputs": [],
   "source": [
    "sub_columns = ['age', 'sex_male','sex_female']\n",
    "sub_trainX = trainX[sub_columns]\n",
    "sub_testX = testX[sub_columns]\n",
    "sub_model = tree.DecisionTreeClassifier(criterion='entropy', max_depth=3, min_samples_leaf=5)\n",
    "sub_model.fit(sub_trainX, trainY)"
   ]
  },
  {
   "cell_type": "code",
   "execution_count": null,
   "metadata": {
    "_cell_guid": "c8130dc9-8ab0-47c5-8041-3311626e8285",
    "_uuid": "85de6ac3cd5e720c3e5f35560f176b79ae9832fc",
    "collapsed": true
   },
   "outputs": [],
   "source": [
    "measure_performance(sub_testX, testY, sub_model)"
   ]
  },
  {
   "cell_type": "markdown",
   "metadata": {
    "_cell_guid": "23b37209-43d1-4b5c-9392-61682ed35f2d",
    "_uuid": "d548cdba74178d76942b47d420ea0faaec9be326"
   },
   "source": [
    "#### 可视化决策树"
   ]
  },
  {
   "cell_type": "code",
   "execution_count": null,
   "metadata": {
    "_cell_guid": "efb6b8d5-5dca-4903-81f3-5563d576bb9d",
    "_uuid": "cbb8f8da498c9777d433623847d366b19c42d9bb",
    "collapsed": true
   },
   "outputs": [],
   "source": [
    "import graphviz\n",
    "dot_data = tree.export_graphviz(model, out_file=None, feature_names=trainX.columns) \n",
    "graph = graphviz.Source(dot_data) \n",
    "#graph.render(\"titanic\") \n",
    "#graph.view()"
   ]
  },
  {
   "cell_type": "markdown",
   "metadata": {
    "_cell_guid": "234c1dce-cdfd-40bc-9629-35f30b742678",
    "_uuid": "d540972036acb877439a19c9f2a1ed034376c55e"
   },
   "source": [
    "#### display graph inline"
   ]
  },
  {
   "cell_type": "code",
   "execution_count": null,
   "metadata": {
    "_cell_guid": "df2a419a-c580-4b91-86bd-9cb02a960141",
    "_uuid": "84274e98ad1a2211c68e5f976ee0f411d9c4ea20",
    "collapsed": true
   },
   "outputs": [],
   "source": [
    "graph"
   ]
  },
  {
   "cell_type": "markdown",
   "metadata": {
    "_cell_guid": "d04b3e1f-1f47-414e-a684-17fe330b5514",
    "_uuid": "4c2cf7b5e96342412e20e34118608ee0da3d7fda",
    "collapsed": true
   },
   "source": [
    "#### 展示特征的重要性"
   ]
  },
  {
   "cell_type": "code",
   "execution_count": null,
   "metadata": {
    "_cell_guid": "8dd82fe1-c1e3-46de-9201-f45b02c576ac",
    "_uuid": "0abc70e05412ab6e9118d5183cd958920d186449",
    "collapsed": true
   },
   "outputs": [],
   "source": [
    "pd.concat([pd.DataFrame(trainX.iloc[:,1:].columns, columns=['variable']),\n",
    "         pd.DataFrame(model.feature_importances_, columns=['importance'])],\n",
    "         axis=1).sort_values(by='importance', ascending=False)[:20]"
   ]
  },
  {
   "cell_type": "code",
   "execution_count": null,
   "metadata": {
    "_cell_guid": "f64ab6c3-4ada-43ef-aa12-623bc1a1fd05",
    "_uuid": "7aac53d36beae675a13583686a0b1ba0ee34c61e",
    "collapsed": true
   },
   "outputs": [],
   "source": []
  },
  {
   "cell_type": "code",
   "execution_count": null,
   "metadata": {
    "_cell_guid": "91139463-945e-4170-8ddd-74d436fe8ae3",
    "_uuid": "232de03045d510fc5e4b51a166a730d0309bc096",
    "collapsed": true
   },
   "outputs": [],
   "source": []
  },
  {
   "cell_type": "code",
   "execution_count": null,
   "metadata": {
    "_cell_guid": "2f1ccf31-5c23-415f-b86e-3a4ea1967052",
    "_uuid": "b87c8b713fa435119e416c009a77d005cd4d4cae",
    "collapsed": true
   },
   "outputs": [],
   "source": []
  }
 ],
 "metadata": {
  "kernelspec": {
   "display_name": "Python 3",
   "language": "python",
   "name": "python3"
  },
  "language_info": {
   "codemirror_mode": {
    "name": "ipython",
    "version": 3
   },
   "file_extension": ".py",
   "mimetype": "text/x-python",
   "name": "python",
   "nbconvert_exporter": "python",
   "pygments_lexer": "ipython3",
   "version": "3.6.5"
  }
 },
 "nbformat": 4,
 "nbformat_minor": 1
}
