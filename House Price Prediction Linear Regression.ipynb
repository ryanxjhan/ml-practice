{
 "cells": [
  {
   "cell_type": "markdown",
   "metadata": {
    "_cell_guid": "8a1ad169-8ef0-41e4-8996-16c6715c49d4",
    "_uuid": "9eb5015bc3ad3118da93442e3c598d418ea43e41",
    "collapsed": true
   },
   "source": [
    "## House Price Prediction"
   ]
  },
  {
   "cell_type": "markdown",
   "metadata": {},
   "source": [
    "### Import Tools"
   ]
  },
  {
   "cell_type": "code",
   "execution_count": 2,
   "metadata": {
    "_cell_guid": "5c77705e-14b9-400c-b9d8-15965233fb0e",
    "_uuid": "59b99e713482c4e44a0766cbbc0b826443061a03",
    "collapsed": true
   },
   "outputs": [],
   "source": [
    "import numpy as np\n",
    "import pandas as pd\n",
    "from sklearn.linear_model import LinearRegression \n",
    "from sklearn.model_selection import train_test_split \n",
    "from sklearn import metrics\n",
    "import matplotlib.pyplot as plt\n",
    "import math "
   ]
  },
  {
   "cell_type": "markdown",
   "metadata": {
    "_cell_guid": "21b92f67-1495-4dca-8298-1f368d142e5a",
    "_uuid": "c898d01ab8a65a13bae9fd6e83d5d7b4f8deba0a"
   },
   "source": [
    "### Load Data"
   ]
  },
  {
   "cell_type": "code",
   "execution_count": 5,
   "metadata": {
    "_cell_guid": "86b72700-0ab2-45f1-ba51-b312370d4a05",
    "_uuid": "ea6955a670ac8a54044c973bceaea512f5e2d18f"
   },
   "outputs": [],
   "source": [
    "data = pd.read_csv(\"./kc_house_data.csv\")"
   ]
  },
  {
   "cell_type": "code",
   "execution_count": 6,
   "metadata": {
    "_cell_guid": "040229b1-1c5a-4c77-bf0d-18c030d4a752",
    "_uuid": "a1999ffd35245464e3481670518d190b1f2cbcab",
    "scrolled": true
   },
   "outputs": [
    {
     "data": {
      "text/plain": [
       "id                 int64\n",
       "date              object\n",
       "price            float64\n",
       "bedrooms           int64\n",
       "bathrooms        float64\n",
       "sqft_living        int64\n",
       "sqft_lot           int64\n",
       "floors           float64\n",
       "waterfront         int64\n",
       "view               int64\n",
       "condition          int64\n",
       "grade              int64\n",
       "sqft_above         int64\n",
       "sqft_basement      int64\n",
       "yr_built           int64\n",
       "yr_renovated       int64\n",
       "zipcode            int64\n",
       "lat              float64\n",
       "long             float64\n",
       "sqft_living15      int64\n",
       "sqft_lot15         int64\n",
       "dtype: object"
      ]
     },
     "execution_count": 6,
     "metadata": {},
     "output_type": "execute_result"
    }
   ],
   "source": [
    "data.dtypes"
   ]
  },
  {
   "cell_type": "code",
   "execution_count": 7,
   "metadata": {
    "_cell_guid": "2de19040-3b53-4b3c-8f8b-b45f9a63d8f8",
    "_uuid": "c26b2784126c1e263145255e0ca525326f9c4872",
    "collapsed": true
   },
   "outputs": [],
   "source": [
    "X = data[['bedrooms','bathrooms','sqft_living','floors']]\n",
    "y = data['price']"
   ]
  },
  {
   "cell_type": "markdown",
   "metadata": {
    "_cell_guid": "62094676-0cc9-4153-a9f0-a3e6768e607e",
    "_uuid": "13b281959f7522c33f5d8947aafc820b9650cf30"
   },
   "source": [
    "### Split Data into Train and Test"
   ]
  },
  {
   "cell_type": "code",
   "execution_count": 9,
   "metadata": {
    "_cell_guid": "2013a562-6a59-47ad-b86a-0001629ffb2d",
    "_uuid": "658a72ed66eef6b29be25ac526f5a31e3414b9ab",
    "scrolled": false
   },
   "outputs": [],
   "source": [
    "xtrain, xtest, ytrain, ytest = train_test_split(X, y, test_size=1/3, random_state=0)"
   ]
  },
  {
   "cell_type": "code",
   "execution_count": 10,
   "metadata": {
    "_cell_guid": "2d35e931-26ea-4076-9e02-a40090c70577",
    "_uuid": "7212a66e287e7ffe5b60a323a1d35c130584ac76",
    "collapsed": true
   },
   "outputs": [],
   "source": [
    "xtrain = np.asmatrix(xtrain)\n",
    "xtest = np.asmatrix(xtest)\n",
    "ytrain = np.ravel(ytrain)\n",
    "ytest = np.ravel(ytest)"
   ]
  },
  {
   "cell_type": "markdown",
   "metadata": {
    "_cell_guid": "e6def3ce-e08e-49c5-a77d-02b288ec9aef",
    "_uuid": "c30eb7e30f298970d9127c532bf60629444426ba"
   },
   "source": [
    "### Price by Living Area "
   ]
  },
  {
   "cell_type": "code",
   "execution_count": 12,
   "metadata": {
    "_cell_guid": "2697fdcf-2b45-4041-8473-b237c025d678",
    "_uuid": "e48c56a3be59cbdad805a8384ef75b12fb4ff0e7"
   },
   "outputs": [
    {
     "data": {
      "image/png": "[encoded data removed]",
      "text/plain": [
       "<matplotlib.figure.Figure at 0x115cf3cc0>"
      ]
     },
     "metadata": {},
     "output_type": "display_data"
    }
   ],
   "source": [
    "plt.scatter(X['sqft_living'], y)\n",
    "plt.show()"
   ]
  },
  {
   "cell_type": "markdown",
   "metadata": {
    "_cell_guid": "dc116f33-83da-44d0-badc-53bc35f1223e",
    "_uuid": "e5bd7bbe095bc082584f5554f965577185d352de"
   },
   "source": [
    "### Living Area Distribution"
   ]
  },
  {
   "cell_type": "code",
   "execution_count": 13,
   "metadata": {
    "_cell_guid": "cfae1230-1adb-4ede-a974-efac8186256c",
    "_uuid": "e560fd61816d0b08805ebc47c86baaf5861f53ca",
    "scrolled": true
   },
   "outputs": [
    {
     "data": {
      "image/png": "[encoded data removed]",
      "text/plain": [
       "<matplotlib.figure.Figure at 0x116072c88>"
      ]
     },
     "metadata": {},
     "output_type": "display_data"
    }
   ],
   "source": [
    "X['sqft_living'].hist()\n",
    "plt.show()"
   ]
  },
  {
   "cell_type": "markdown",
   "metadata": {
    "_cell_guid": "c87935c5-1b22-4a94-9981-e6ad7e466771",
    "_uuid": "4277b87a12f0e95ba66da15c6f6ef6cc14530e01"
   },
   "source": [
    "### Train"
   ]
  },
  {
   "cell_type": "code",
   "execution_count": 14,
   "metadata": {
    "_cell_guid": "d0db1620-2f5d-414c-b158-446e742f6d55",
    "_uuid": "e1ac343b153084437cff246e5fa17dc97b0b14ae"
   },
   "outputs": [
    {
     "data": {
      "text/plain": [
       "LinearRegression(copy_X=True, fit_intercept=True, n_jobs=1, normalize=False)"
      ]
     },
     "execution_count": 14,
     "metadata": {},
     "output_type": "execute_result"
    }
   ],
   "source": [
    "model = LinearRegression()\n",
    "model.fit(xtrain, ytrain)"
   ]
  },
  {
   "cell_type": "code",
   "execution_count": 15,
   "metadata": {
    "_cell_guid": "51f7dd4d-d388-4a3b-9edc-f499bd248727",
    "_uuid": "c951b4ed3d7a0e300de39b3e76d3426243adc669",
    "scrolled": true
   },
   "outputs": [
    {
     "data": {
      "text/html": [
       "<div>\n",
       "<style>\n",
       "    .dataframe thead tr:only-child th {\n",
       "        text-align: right;\n",
       "    }\n",
       "\n",
       "    .dataframe thead th {\n",
       "        text-align: left;\n",
       "    }\n",
       "\n",
       "    .dataframe tbody tr th {\n",
       "        vertical-align: top;\n",
       "    }\n",
       "</style>\n",
       "<table border=\"1\" class=\"dataframe\">\n",
       "  <thead>\n",
       "    <tr style=\"text-align: right;\">\n",
       "      <th></th>\n",
       "      <th>0</th>\n",
       "      <th>1</th>\n",
       "    </tr>\n",
       "  </thead>\n",
       "  <tbody>\n",
       "    <tr>\n",
       "      <th>0</th>\n",
       "      <td>bedrooms</td>\n",
       "      <td>-51118.881973</td>\n",
       "    </tr>\n",
       "    <tr>\n",
       "      <th>1</th>\n",
       "      <td>bathrooms</td>\n",
       "      <td>4146.343826</td>\n",
       "    </tr>\n",
       "    <tr>\n",
       "      <th>2</th>\n",
       "      <td>sqft_living</td>\n",
       "      <td>300.225555</td>\n",
       "    </tr>\n",
       "    <tr>\n",
       "      <th>3</th>\n",
       "      <td>floors</td>\n",
       "      <td>5226.700983</td>\n",
       "    </tr>\n",
       "  </tbody>\n",
       "</table>\n",
       "</div>"
      ],
      "text/plain": [
       "             0             1\n",
       "0     bedrooms -51118.881973\n",
       "1    bathrooms   4146.343826\n",
       "2  sqft_living    300.225555\n",
       "3       floors   5226.700983"
      ]
     },
     "execution_count": 15,
     "metadata": {},
     "output_type": "execute_result"
    }
   ],
   "source": [
    "pd.DataFrame(list(zip(X.columns, np.transpose(model.coef_))))"
   ]
  },
  {
   "cell_type": "code",
   "execution_count": 16,
   "metadata": {
    "_cell_guid": "8550aaa1-783e-4e19-8828-bba584d0cb7d",
    "_uuid": "af1f141ebd432704f67ce2fecf67a3019c9bac68"
   },
   "outputs": [
    {
     "data": {
      "text/plain": [
       "71317.928922335617"
      ]
     },
     "execution_count": 16,
     "metadata": {},
     "output_type": "execute_result"
    }
   ],
   "source": [
    "model.intercept_"
   ]
  },
  {
   "cell_type": "markdown",
   "metadata": {},
   "source": [
    "### Validate\n",
    "\n",
    "Three bedrooms, two bathrooms, 2500 sqft, 2 floors"
   ]
  },
  {
   "cell_type": "code",
   "execution_count": 18,
   "metadata": {
    "_cell_guid": "8f9dc89a-b28c-45aa-bb4e-b3e759e69362",
    "_uuid": "94d6a1008becda77edbf5b55923fd266f59d6309"
   },
   "outputs": [
    {
     "data": {
      "text/plain": [
       "array([ 687271.26074668])"
      ]
     },
     "execution_count": 18,
     "metadata": {},
     "output_type": "execute_result"
    }
   ],
   "source": [
    "model.predict([[3,2,2500,2]])"
   ]
  },
  {
   "cell_type": "markdown",
   "metadata": {
    "_cell_guid": "895e429f-ca58-4174-80ec-6012321d8dc8",
    "_uuid": "c433f3913ec3310f3ff30352329a0090f6c9f233"
   },
   "source": [
    "### Mean Squared Error on Training Data "
   ]
  },
  {
   "cell_type": "code",
   "execution_count": 19,
   "metadata": {
    "_cell_guid": "dcd2df11-b639-41dd-ab0a-09dc144891e7",
    "_uuid": "8cecf726add0516097f0d7e74c5f8329493f874d"
   },
   "outputs": [
    {
     "data": {
      "text/plain": [
       "64954234066.379501"
      ]
     },
     "execution_count": 19,
     "metadata": {},
     "output_type": "execute_result"
    }
   ],
   "source": [
    "pred = model.predict(xtrain)\n",
    "((pred-ytrain)*(pred-ytrain)).sum() / len(ytrain)"
   ]
  },
  {
   "cell_type": "markdown",
   "metadata": {
    "_cell_guid": "83339d29-3fc3-44ee-8049-ef388a8618eb",
    "_uuid": "1fd4487e1d3c4173e8b199eab67443ab35683154"
   },
   "source": [
    "### Mean Relative Error on Training Data"
   ]
  },
  {
   "cell_type": "code",
   "execution_count": 22,
   "metadata": {
    "_cell_guid": "0d4346b4-25b7-4472-8b54-844bd4869806",
    "_uuid": "1fe51385dc41dcf49594ec5cb90075e7162068bd"
   },
   "outputs": [
    {
     "data": {
      "text/plain": [
       "0.35054825833706521"
      ]
     },
     "execution_count": 22,
     "metadata": {},
     "output_type": "execute_result"
    }
   ],
   "source": [
    "(abs(pred-ytrain)/ytrain).sum() / len(ytrain)"
   ]
  },
  {
   "cell_type": "markdown",
   "metadata": {
    "_cell_guid": "d3404ead-aaee-469c-9537-81c1174e40bf",
    "_uuid": "dd1c34878080792d6f8365c404dafd1d7388f29d"
   },
   "source": [
    "### Mean Squared Error on Testing Data"
   ]
  },
  {
   "cell_type": "code",
   "execution_count": 20,
   "metadata": {
    "_cell_guid": "b56a2d7a-2751-4174-b1b2-de8ce35caf2a",
    "_uuid": "78ffe4928fbe19a86fbdc264f7e5067181948fc2"
   },
   "outputs": [
    {
     "data": {
      "text/plain": [
       "69651448893.860321"
      ]
     },
     "execution_count": 20,
     "metadata": {},
     "output_type": "execute_result"
    }
   ],
   "source": [
    "predtest = model.predict(xtest)\n",
    "((predtest-ytest)*(predtest-ytest)).sum() / len(ytest)"
   ]
  },
  {
   "cell_type": "markdown",
   "metadata": {},
   "source": [
    "### Mean Relative Error on Training Data"
   ]
  },
  {
   "cell_type": "code",
   "execution_count": 21,
   "metadata": {
    "_cell_guid": "a779a7f0-6934-4126-8156-4fa3c7930f91",
    "_uuid": "185677b35eb1e5223811f0cc2bcd81ab669a007f"
   },
   "outputs": [
    {
     "data": {
      "text/plain": [
       "0.34624369015230427"
      ]
     },
     "execution_count": 21,
     "metadata": {},
     "output_type": "execute_result"
    }
   ],
   "source": [
    "(abs(predtest-ytest)/ytest).sum() / len(ytest)"
   ]
  }
 ],
 "metadata": {
  "kernelspec": {
   "display_name": "Python 3",
   "language": "python",
   "name": "python3"
  },
  "language_info": {
   "codemirror_mode": {
    "name": "ipython",
    "version": 3
   },
   "file_extension": ".py",
   "mimetype": "text/x-python",
   "name": "python",
   "nbconvert_exporter": "python",
   "pygments_lexer": "ipython3",
   "version": "3.6.5"
  }
 },
 "nbformat": 4,
 "nbformat_minor": 1
}
