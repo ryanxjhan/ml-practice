{
 "cells": [
  {
   "cell_type": "markdown",
   "metadata": {
    "_cell_guid": "f39cdc5b-cec8-4ef1-8064-85715f4321be",
    "_uuid": "30668d08e311bb49139dc4ac9bd3fe2020aa9fe8"
   },
   "source": [
    "## Digit Recognization"
   ]
  },
  {
   "cell_type": "code",
   "execution_count": 1,
   "metadata": {
    "_cell_guid": "cc283f22-1e99-4406-8338-681a77b68be9",
    "_uuid": "896977675560ad0a28cf7b22d0a1a2b92bf0cd35"
   },
   "outputs": [],
   "source": [
    "import matplotlib.pyplot as plt\n",
    "from sklearn import datasets, metrics\n",
    "from sklearn.linear_model import LogisticRegression"
   ]
  },
  {
   "cell_type": "markdown",
   "metadata": {
    "_cell_guid": "858f8886-ee6c-4170-8532-e551b8fe600c",
    "_uuid": "66bdba76e6184d4fdc395b569d75577bc07684d4"
   },
   "source": [
    "### Load Data"
   ]
  },
  {
   "cell_type": "code",
   "execution_count": 3,
   "metadata": {
    "_cell_guid": "9fa0b118-fd99-4ff2-977d-057b3660224f",
    "_uuid": "ebb8dbdb8ab724bb02229380a41f4446ebe86e33"
   },
   "outputs": [],
   "source": [
    "digits = datasets.load_digits()"
   ]
  },
  {
   "cell_type": "markdown",
   "metadata": {},
   "source": [
    "### Print Sample"
   ]
  },
  {
   "cell_type": "code",
   "execution_count": 4,
   "metadata": {
    "_cell_guid": "a8fd8787-a1d7-4d84-b835-be9fb13edfd4",
    "_uuid": "e98823527830a97e71df0812de32a1bf50fee5b6"
   },
   "outputs": [
    {
     "data": {
      "image/png": "[encoded data removed]",
      "text/plain": [
       "<Figure size 432x288 with 4 Axes>"
      ]
     },
     "metadata": {},
     "output_type": "display_data"
    }
   ],
   "source": [
    "samples = list(zip(digits.images, digits.target))\n",
    "for id, (img, label) in enumerate(samples[:4]):\n",
    "    plt.subplot(1, 4, id + 1)\n",
    "    plt.axis('off')\n",
    "    plt.imshow(img, cmap=plt.cm.gray_r, interpolation='nearest')\n",
    "    plt.title('Label: %i' % label)\n",
    "plt.show()    "
   ]
  },
  {
   "cell_type": "code",
   "execution_count": 9,
   "metadata": {
    "_cell_guid": "3a91a580-d403-4f99-bd62-6cd32854d3ce",
    "_uuid": "6160e5e87d5a4910a23112cc861a3eb96def32e9"
   },
   "outputs": [
    {
     "name": "stdout",
     "output_type": "stream",
     "text": [
      "[ 0.  0.  5. 13.  9.  1.  0.  0.  0.  0. 13. 15. 10. 15.  5.  0.  0.  3.\n",
      " 15.  2.  0. 11.  8.  0.  0.  4. 12.  0.  0.  8.  8.  0.  0.  5.  8.  0.\n",
      "  0.  9.  8.  0.  0.  4. 11.  0.  1. 12.  7.  0.  0.  2. 14.  5. 10. 12.\n",
      "  0.  0.  0.  0.  6. 13. 10.  0.  0.  0.]\n"
     ]
    }
   ],
   "source": [
    "n = len(digits.images)\n",
    "data = digits.images.reshape(n, -1)\n",
    "print(data[0])"
   ]
  },
  {
   "cell_type": "markdown",
   "metadata": {
    "_cell_guid": "7c7d6b95-df56-42e7-89ae-32ec23cfcd0b",
    "_uuid": "6bb28060cc8385e098d77566979fd95ed59dc483"
   },
   "source": [
    "### Model"
   ]
  },
  {
   "cell_type": "code",
   "execution_count": 11,
   "metadata": {
    "_cell_guid": "2005419a-3468-4404-a955-f40636535f14",
    "_uuid": "84ac681f52b9ede7fa3f60dfe3dfd70bc5b8811a"
   },
   "outputs": [],
   "source": [
    "model = LogisticRegression(C = 1e5)"
   ]
  },
  {
   "cell_type": "markdown",
   "metadata": {},
   "source": [
    "### Split and Train Data"
   ]
  },
  {
   "cell_type": "code",
   "execution_count": 12,
   "metadata": {
    "_cell_guid": "a8068d1a-4c88-41c1-a34a-0966e23d28b0",
    "_uuid": "7a335812d7b18bdd4e43de9b4a5c92666d4cb07c"
   },
   "outputs": [
    {
     "data": {
      "text/plain": [
       "LogisticRegression(C=100000.0, class_weight=None, dual=False,\n",
       "          fit_intercept=True, intercept_scaling=1, max_iter=100,\n",
       "          multi_class='ovr', n_jobs=1, penalty='l2', random_state=None,\n",
       "          solver='liblinear', tol=0.0001, verbose=0, warm_start=False)"
      ]
     },
     "execution_count": 12,
     "metadata": {},
     "output_type": "execute_result"
    }
   ],
   "source": [
    "model.fit(data[:n//2], digits.target[:n//2])"
   ]
  },
  {
   "cell_type": "code",
   "execution_count": 13,
   "metadata": {
    "_cell_guid": "990bcc87-503b-476f-8481-590a523f985e",
    "_uuid": "bca0cfb815566d4a6af0eacba8a7251ad22f5911"
   },
   "outputs": [],
   "source": [
    "answer = digits.target[n//2:]\n",
    "pred = model.predict(data[n//2:])"
   ]
  },
  {
   "cell_type": "markdown",
   "metadata": {
    "_cell_guid": "5a119d36-082e-4c95-895a-b56f1a2f37fe",
    "_uuid": "f174d668478343d7fd1e883f0bdeee7e9c042788"
   },
   "source": [
    "### Score on Training Set"
   ]
  },
  {
   "cell_type": "code",
   "execution_count": 14,
   "metadata": {
    "_cell_guid": "f93ac30a-9c44-4d95-9d46-2a3576cc72dd",
    "_uuid": "00f764b7bac55af723d2f2bf9e3e4981ac543d9b"
   },
   "outputs": [
    {
     "data": {
      "text/plain": [
       "array([[84,  0,  0,  0,  1,  1,  2,  0,  0,  0],\n",
       "       [ 1, 76,  2,  2,  0,  0,  0,  0,  8,  2],\n",
       "       [ 1,  0, 85,  0,  0,  0,  0,  0,  0,  0],\n",
       "       [ 0,  1,  0, 76,  0,  7,  0,  2,  3,  2],\n",
       "       [ 1,  2,  0,  0, 85,  0,  1,  0,  2,  1],\n",
       "       [ 0,  2,  0,  0,  0, 83,  2,  0,  0,  4],\n",
       "       [ 0,  0,  1,  0,  0,  0, 90,  0,  0,  0],\n",
       "       [ 0,  1,  0,  0,  0,  5,  0, 79,  1,  3],\n",
       "       [ 0,  5,  7,  3,  3,  3,  1,  1, 62,  3],\n",
       "       [ 2,  3,  0,  1,  0,  0,  0,  0,  2, 84]])"
      ]
     },
     "execution_count": 14,
     "metadata": {},
     "output_type": "execute_result"
    }
   ],
   "source": [
    "metrics.confusion_matrix(answer, pred)"
   ]
  },
  {
   "cell_type": "markdown",
   "metadata": {
    "_cell_guid": "c8638d21-a189-4441-8298-62ab063723d7",
    "_uuid": "9a4a09b063cc2fb14a5064039316943771a5c742"
   },
   "source": [
    "### Prediction Sample"
   ]
  },
  {
   "cell_type": "code",
   "execution_count": 15,
   "metadata": {
    "_cell_guid": "786e8eb7-c83f-4f4d-aa2a-84dd1a252ca0",
    "_uuid": "edc682bc08a1eb100c347042fff1c95d086ec769"
   },
   "outputs": [
    {
     "data": {
      "image/png": "[encoded data removed]",
      "text/plain": [
       "<Figure size 432x288 with 4 Axes>"
      ]
     },
     "metadata": {},
     "output_type": "display_data"
    }
   ],
   "source": [
    "samples = list(zip(digits.images[n//2:], pred))\n",
    "for id, (img, label) in enumerate(samples[:4]):\n",
    "    plt.subplot(1, 4, id + 1)\n",
    "    plt.axis('off')\n",
    "    plt.imshow(img, cmap=plt.cm.gray_r, interpolation='nearest')\n",
    "    plt.title('Predict: %i' % label)\n",
    "plt.show()    "
   ]
  },
  {
   "cell_type": "code",
   "execution_count": null,
   "metadata": {},
   "outputs": [],
   "source": []
  }
 ],
 "metadata": {
  "kernelspec": {
   "display_name": "Python 3",
   "language": "python",
   "name": "python3"
  },
  "language_info": {
   "codemirror_mode": {
    "name": "ipython",
    "version": 3
   },
   "file_extension": ".py",
   "mimetype": "text/x-python",
   "name": "python",
   "nbconvert_exporter": "python",
   "pygments_lexer": "ipython3",
   "version": "3.6.5"
  }
 },
 "nbformat": 4,
 "nbformat_minor": 1
}
